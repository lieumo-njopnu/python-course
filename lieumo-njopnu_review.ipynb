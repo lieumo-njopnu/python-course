{
 "cells": [
  {
   "cell_type": "code",
   "execution_count": 5,
   "id": "3ec0e391",
   "metadata": {},
   "outputs": [],
   "source": [
    "my_name=\"Chakala VIP\"\n",
    "my_age=43\n",
    "my_heigth=1.63"
   ]
  },
  {
   "cell_type": "code",
   "execution_count": 2,
   "id": "45ac4731",
   "metadata": {},
   "outputs": [
    {
     "name": "stdout",
     "output_type": "stream",
     "text": [
      "1.63\n"
     ]
    }
   ],
   "source": [
    "print(my_heigth)"
   ]
  },
  {
   "cell_type": "code",
   "execution_count": 3,
   "id": "c57d3216",
   "metadata": {},
   "outputs": [
    {
     "data": {
      "text/plain": [
       "1.63"
      ]
     },
     "execution_count": 3,
     "metadata": {},
     "output_type": "execute_result"
    }
   ],
   "source": [
    "my_heigth"
   ]
  },
  {
   "cell_type": "code",
   "execution_count": 6,
   "id": "e7c2069a",
   "metadata": {},
   "outputs": [
    {
     "data": {
      "text/plain": [
       "int"
      ]
     },
     "execution_count": 6,
     "metadata": {},
     "output_type": "execute_result"
    }
   ],
   "source": [
    "type(my_age)"
   ]
  },
  {
   "cell_type": "code",
   "execution_count": 8,
   "id": "2e5a9e82",
   "metadata": {},
   "outputs": [
    {
     "name": "stdout",
     "output_type": "stream",
     "text": [
      "My first name is  LIEUMO NJOPNU\n"
     ]
    }
   ],
   "source": [
    "my_first_name=\"LIEUMO\"\n",
    "my_last_name=\"NJOPNU\"\n",
    "print(\"My first name is \",my_first_name+\" \"+my_last_name)"
   ]
  },
  {
   "cell_type": "code",
   "execution_count": 9,
   "id": "317f98cb",
   "metadata": {},
   "outputs": [
    {
     "data": {
      "text/plain": [
       "'43LIEUMO'"
      ]
     },
     "execution_count": 9,
     "metadata": {},
     "output_type": "execute_result"
    }
   ],
   "source": [
    "str(my_age)+my_first_name"
   ]
  },
  {
   "cell_type": "code",
   "execution_count": 10,
   "id": "81570787",
   "metadata": {},
   "outputs": [
    {
     "data": {
      "text/plain": [
       "'L'"
      ]
     },
     "execution_count": 10,
     "metadata": {},
     "output_type": "execute_result"
    }
   ],
   "source": [
    "my_first_name[0]"
   ]
  },
  {
   "cell_type": "code",
   "execution_count": 11,
   "id": "355431a2",
   "metadata": {},
   "outputs": [
    {
     "name": "stdout",
     "output_type": "stream",
     "text": [
      "[43, 'LIEUMO', 'NJOPNU']\n"
     ]
    }
   ],
   "source": [
    "my_list=[my_age, my_first_name, my_last_name]\n",
    "print(my_list)"
   ]
  },
  {
   "cell_type": "code",
   "execution_count": 12,
   "id": "7bcc2339",
   "metadata": {},
   "outputs": [
    {
     "data": {
      "text/plain": [
       "'NJOPNU'"
      ]
     },
     "execution_count": 12,
     "metadata": {},
     "output_type": "execute_result"
    }
   ],
   "source": [
    "my_list[2]"
   ]
  },
  {
   "cell_type": "code",
   "execution_count": 13,
   "id": "1a8b9bf7",
   "metadata": {},
   "outputs": [
    {
     "data": {
      "text/plain": [
       "{'a': 43, 'b': 1.63}"
      ]
     },
     "execution_count": 13,
     "metadata": {},
     "output_type": "execute_result"
    }
   ],
   "source": [
    "my_dict={'a':my_age, \"b\":my_heigth}\n",
    "my_dict"
   ]
  },
  {
   "cell_type": "code",
   "execution_count": 14,
   "id": "6836b0b8",
   "metadata": {},
   "outputs": [
    {
     "name": "stdout",
     "output_type": "stream",
     "text": [
      "43\n",
      "LIEUMO\n",
      "NJOPNU\n"
     ]
    }
   ],
   "source": [
    "for i in my_list:\n",
    "    if str(i)>=str(0):\n",
    "        print(i)"
   ]
  },
  {
   "cell_type": "code",
   "execution_count": 15,
   "id": "c94ff7bc",
   "metadata": {},
   "outputs": [
    {
     "data": {
      "text/plain": [
       "True"
      ]
     },
     "execution_count": 15,
     "metadata": {},
     "output_type": "execute_result"
    }
   ],
   "source": [
    "'y'<='z'"
   ]
  },
  {
   "cell_type": "code",
   "execution_count": 16,
   "id": "4d1ade1c",
   "metadata": {},
   "outputs": [],
   "source": [
    "def square(x):\n",
    "    \"\"\"return square of a number\"\"\"\n",
    "    return x*x"
   ]
  },
  {
   "cell_type": "code",
   "execution_count": 17,
   "id": "03a66cf7",
   "metadata": {},
   "outputs": [
    {
     "data": {
      "text/plain": [
       "25"
      ]
     },
     "execution_count": 17,
     "metadata": {},
     "output_type": "execute_result"
    }
   ],
   "source": [
    "square(5)"
   ]
  },
  {
   "cell_type": "code",
   "execution_count": null,
   "id": "37cd4c2b",
   "metadata": {},
   "outputs": [],
   "source": []
  },
  {
   "cell_type": "code",
   "execution_count": null,
   "id": "e8fb881f",
   "metadata": {},
   "outputs": [],
   "source": []
  },
  {
   "cell_type": "code",
   "execution_count": null,
   "id": "c8303bd7",
   "metadata": {},
   "outputs": [],
   "source": []
  },
  {
   "cell_type": "code",
   "execution_count": null,
   "id": "e96823bf",
   "metadata": {},
   "outputs": [],
   "source": []
  }
 ],
 "metadata": {
  "kernelspec": {
   "display_name": "Python 3 (ipykernel)",
   "language": "python",
   "name": "python3"
  },
  "language_info": {
   "codemirror_mode": {
    "name": "ipython",
    "version": 3
   },
   "file_extension": ".py",
   "mimetype": "text/x-python",
   "name": "python",
   "nbconvert_exporter": "python",
   "pygments_lexer": "ipython3",
   "version": "3.10.12"
  }
 },
 "nbformat": 4,
 "nbformat_minor": 5
}
