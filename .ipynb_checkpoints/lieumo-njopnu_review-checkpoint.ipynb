{
 "cells": [
  {
   "cell_type": "code",
   "execution_count": 5,
   "id": "45847c77",
   "metadata": {},
   "outputs": [],
   "source": [
    "my_name=\"Chakala VIP\"\n",
    "my_age=43\n",
    "my_heigth=1.63"
   ]
  },
  {
   "cell_type": "code",
   "execution_count": 2,
   "id": "b48ece8a",
   "metadata": {},
   "outputs": [
    {
     "name": "stdout",
     "output_type": "stream",
     "text": [
      "1.63\n"
     ]
    }
   ],
   "source": [
    "print(my_heigth)"
   ]
  },
  {
   "cell_type": "code",
   "execution_count": 3,
   "id": "e11ee9f5",
   "metadata": {},
   "outputs": [
    {
     "data": {
      "text/plain": [
       "1.63"
      ]
     },
     "execution_count": 3,
     "metadata": {},
     "output_type": "execute_result"
    }
   ],
   "source": [
    "my_heigth"
   ]
  },
  {
   "cell_type": "code",
   "execution_count": 6,
   "id": "612ec126",
   "metadata": {},
   "outputs": [
    {
     "data": {
      "text/plain": [
       "int"
      ]
     },
     "execution_count": 6,
     "metadata": {},
     "output_type": "execute_result"
    }
   ],
   "source": [
    "type(my_age)"
   ]
  },
  {
   "cell_type": "code",
   "execution_count": 8,
   "id": "c580aef3",
   "metadata": {},
   "outputs": [
    {
     "name": "stdout",
     "output_type": "stream",
     "text": [
      "My first name is  LIEUMO NJOPNU\n"
     ]
    }
   ],
   "source": [
    "my_first_name=\"LIEUMO\"\n",
    "my_last_name=\"NJOPNU\"\n",
    "print(\"My first name is \",my_first_name+\" \"+my_last_name)"
   ]
  },
  {
   "cell_type": "code",
   "execution_count": 9,
   "id": "8a58199d",
   "metadata": {},
   "outputs": [
    {
     "data": {
      "text/plain": [
       "'43LIEUMO'"
      ]
     },
     "execution_count": 9,
     "metadata": {},
     "output_type": "execute_result"
    }
   ],
   "source": [
    "str(my_age)+my_first_name"
   ]
  },
  {
   "cell_type": "code",
   "execution_count": 10,
   "id": "2bb142b8",
   "metadata": {},
   "outputs": [
    {
     "data": {
      "text/plain": [
       "'L'"
      ]
     },
     "execution_count": 10,
     "metadata": {},
     "output_type": "execute_result"
    }
   ],
   "source": [
    "my_first_name[0]"
   ]
  },
  {
   "cell_type": "code",
   "execution_count": 11,
   "id": "e58297be",
   "metadata": {},
   "outputs": [
    {
     "name": "stdout",
     "output_type": "stream",
     "text": [
      "[43, 'LIEUMO', 'NJOPNU']\n"
     ]
    }
   ],
   "source": [
    "my_list=[my_age, my_first_name, my_last_name]\n",
    "print(my_list)"
   ]
  },
  {
   "cell_type": "code",
   "execution_count": 12,
   "id": "501af3e7",
   "metadata": {},
   "outputs": [
    {
     "data": {
      "text/plain": [
       "'NJOPNU'"
      ]
     },
     "execution_count": 12,
     "metadata": {},
     "output_type": "execute_result"
    }
   ],
   "source": [
    "my_list[2]"
   ]
  },
  {
   "cell_type": "code",
   "execution_count": 13,
   "id": "b31a5683",
   "metadata": {},
   "outputs": [
    {
     "data": {
      "text/plain": [
       "{'a': 43, 'b': 1.63}"
      ]
     },
     "execution_count": 13,
     "metadata": {},
     "output_type": "execute_result"
    }
   ],
   "source": [
    "my_dict={'a':my_age, \"b\":my_heigth}\n",
    "my_dict"
   ]
  },
  {
   "cell_type": "code",
   "execution_count": 14,
   "id": "e960c304",
   "metadata": {},
   "outputs": [
    {
     "name": "stdout",
     "output_type": "stream",
     "text": [
      "43\n",
      "LIEUMO\n",
      "NJOPNU\n"
     ]
    }
   ],
   "source": [
    "for i in my_list:\n",
    "    if str(i)>=str(0):\n",
    "        print(i)"
   ]
  },
  {
   "cell_type": "code",
   "execution_count": 15,
   "id": "efcbc336",
   "metadata": {},
   "outputs": [
    {
     "data": {
      "text/plain": [
       "True"
      ]
     },
     "execution_count": 15,
     "metadata": {},
     "output_type": "execute_result"
    }
   ],
   "source": [
    "'y'<='z'"
   ]
  },
  {
   "cell_type": "code",
   "execution_count": 16,
   "id": "a85e2877",
   "metadata": {},
   "outputs": [],
   "source": [
    "def square(x):\n",
    "    \"\"\"return square of a number\"\"\"\n",
    "    return x*x"
   ]
  },
  {
   "cell_type": "code",
   "execution_count": null,
   "id": "1f841db1",
   "metadata": {},
   "outputs": [],
   "source": []
  },
  {
   "cell_type": "code",
   "execution_count": null,
   "id": "d25b7d57",
   "metadata": {},
   "outputs": [],
   "source": []
  },
  {
   "cell_type": "code",
   "execution_count": null,
   "id": "c10d4e4d",
   "metadata": {},
   "outputs": [],
   "source": []
  },
  {
   "cell_type": "code",
   "execution_count": null,
   "id": "bcfb6fd7",
   "metadata": {},
   "outputs": [],
   "source": []
  },
  {
   "cell_type": "code",
   "execution_count": null,
   "id": "b5b29b18",
   "metadata": {},
   "outputs": [],
   "source": []
  }
 ],
 "metadata": {
  "kernelspec": {
   "display_name": "Python 3 (ipykernel)",
   "language": "python",
   "name": "python3"
  },
  "language_info": {
   "codemirror_mode": {
    "name": "ipython",
    "version": 3
   },
   "file_extension": ".py",
   "mimetype": "text/x-python",
   "name": "python",
   "nbconvert_exporter": "python",
   "pygments_lexer": "ipython3",
   "version": "3.10.12"
  }
 },
 "nbformat": 4,
 "nbformat_minor": 5
}
