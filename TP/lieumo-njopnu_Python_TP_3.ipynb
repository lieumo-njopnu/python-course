{
  "cells": [
    {
      "cell_type": "markdown",
      "id": "d68c1dee",
      "metadata": {
        "id": "d68c1dee"
      },
      "source": [
        "# Practical_3: Iterable objects or Containers"
      ]
    },
    {
      "cell_type": "markdown",
      "id": "07369bc6",
      "metadata": {
        "id": "07369bc6"
      },
      "source": [
        "---\n",
        "\n",
        "### Exercise 1:\n",
        "Create a list of integers from 1 to 10.\n",
        "\n",
        "```python\n",
        "# Exercise 1\n",
        "```"
      ]
    },
    {
      "cell_type": "code",
      "execution_count": null,
      "id": "de562ae8",
      "metadata": {
        "id": "de562ae8",
        "colab": {
          "base_uri": "https://localhost:8080/"
        },
        "outputId": "9bb5f2fc-5a61-4520-d10e-1f455be3bc95"
      },
      "outputs": [
        {
          "output_type": "execute_result",
          "data": {
            "text/plain": [
              "[1, 2, 3, 4, 5, 6, 7, 8, 9, 10]"
            ]
          },
          "metadata": {},
          "execution_count": 2
        }
      ],
      "source": [
        "my_list=list(range(1,11))\n",
        "my_list"
      ]
    },
    {
      "cell_type": "markdown",
      "id": "6defdc87",
      "metadata": {
        "id": "6defdc87"
      },
      "source": [
        "---\n",
        "\n",
        "### Exercise 2:\n",
        "Create a tuple containing the elements `\"apple\"`, `\"banana\"`, and `\"cherry\"`.\n",
        "\n",
        "```python\n",
        "# Exercise 2\n",
        "```"
      ]
    },
    {
      "cell_type": "code",
      "execution_count": null,
      "id": "c70cf44a",
      "metadata": {
        "id": "c70cf44a"
      },
      "outputs": [],
      "source": [
        "fruits=('apple', 'banana', 'cherry')"
      ]
    },
    {
      "cell_type": "markdown",
      "id": "ccc425dd",
      "metadata": {
        "id": "ccc425dd"
      },
      "source": [
        "---\n",
        "\n",
        "### Exercise 3:\n",
        "Convert the list `numbers = [10, 20, 30, 40]` into a tuple.\n",
        "\n",
        "```python\n",
        "# Exercise 3\n",
        "```"
      ]
    },
    {
      "cell_type": "code",
      "execution_count": null,
      "id": "ad794dc2",
      "metadata": {
        "id": "ad794dc2",
        "outputId": "82c19e8d-0770-4961-9b6c-5789fe94e443"
      },
      "outputs": [
        {
          "data": {
            "text/plain": [
              "tuple"
            ]
          },
          "execution_count": 3,
          "metadata": {},
          "output_type": "execute_result"
        }
      ],
      "source": [
        "numbers = [10, 20, 30, 40]\n",
        "numbers=tuple(numbers)\n",
        "type(numbers)"
      ]
    },
    {
      "cell_type": "markdown",
      "id": "1111c120",
      "metadata": {
        "id": "1111c120"
      },
      "source": [
        "---\n",
        "\n",
        "### Exercise 4:\n",
        "Create a set containing the elements `1, 2, 3, 4, 5`.\n",
        "\n",
        "```python\n",
        "# Exercise 4\n",
        "```"
      ]
    },
    {
      "cell_type": "code",
      "execution_count": null,
      "id": "15b172cf",
      "metadata": {
        "id": "15b172cf",
        "outputId": "b9bed978-2eb3-4680-a042-adeab05506db"
      },
      "outputs": [
        {
          "data": {
            "text/plain": [
              "set"
            ]
          },
          "execution_count": 4,
          "metadata": {},
          "output_type": "execute_result"
        }
      ],
      "source": [
        "my_set={1, 2, 3, 4, 5}\n",
        "type(my_set)"
      ]
    },
    {
      "cell_type": "markdown",
      "id": "5463e8ad",
      "metadata": {
        "id": "5463e8ad"
      },
      "source": [
        "---\n",
        "\n",
        "### Exercise 5:\n",
        "Create a dictionary `student` with the keys `\"name\"`, `\"age\"`, and `\"grade\"` and corresponding values `\"Alice\"`, `20`, and `\"A\"`.\n",
        "\n",
        "```python\n",
        "# Exercise 5\n",
        "```"
      ]
    },
    {
      "cell_type": "code",
      "execution_count": null,
      "id": "7cf403f6",
      "metadata": {
        "id": "7cf403f6"
      },
      "outputs": [],
      "source": [
        "student={'name':'Alice','age':20,'grade':'A'}"
      ]
    },
    {
      "cell_type": "markdown",
      "id": "cd385888",
      "metadata": {
        "id": "cd385888"
      },
      "source": [
        "---\n",
        "\n",
        "### Exercise 6:\n",
        "Access the second element of the list `[10, 20, 30, 40, 50]` using indexing.\n",
        "\n",
        "```python\n",
        "# Exercise 6\n",
        "```"
      ]
    },
    {
      "cell_type": "code",
      "execution_count": null,
      "id": "83b944bd",
      "metadata": {
        "id": "83b944bd",
        "outputId": "c8636bda-f716-43b5-dd90-d303ae260da0"
      },
      "outputs": [
        {
          "data": {
            "text/plain": [
              "20"
            ]
          },
          "execution_count": 6,
          "metadata": {},
          "output_type": "execute_result"
        }
      ],
      "source": [
        "[10, 20, 30, 40, 50][1]"
      ]
    },
    {
      "cell_type": "markdown",
      "id": "de332384",
      "metadata": {
        "id": "de332384"
      },
      "source": [
        "---\n",
        "\n",
        "### Exercise 7:\n",
        "Change the third element of the list `fruits = [\"apple\", \"banana\", \"cherry\", \"orange\"]` to `\"mango\"`.\n",
        "\n",
        "```python\n",
        "# Exercise 7\n",
        "```"
      ]
    },
    {
      "cell_type": "code",
      "execution_count": null,
      "id": "ca6a84a2",
      "metadata": {
        "id": "ca6a84a2"
      },
      "outputs": [],
      "source": [
        "fruits = [\"apple\", \"banana\", \"cherry\", \"orange\"]\n",
        "fruits[2]='mango'"
      ]
    },
    {
      "cell_type": "markdown",
      "id": "0daf777a",
      "metadata": {
        "id": "0daf777a"
      },
      "source": [
        "---\n",
        "\n",
        "### Exercise 8:\n",
        "Add the number `6` to the set `numbers = {1, 2, 3, 4, 5}`.\n",
        "\n",
        "```python\n",
        "# Exercise 8\n",
        "```"
      ]
    },
    {
      "cell_type": "code",
      "execution_count": null,
      "id": "2f8c309a",
      "metadata": {
        "id": "2f8c309a",
        "outputId": "9936c68a-757b-47bd-800f-3f0c66293012"
      },
      "outputs": [
        {
          "data": {
            "text/plain": [
              "{1, 2, 3, 4, 5, 6}"
            ]
          },
          "execution_count": 8,
          "metadata": {},
          "output_type": "execute_result"
        }
      ],
      "source": [
        "numbers = {1, 2, 3, 4, 5}\n",
        "numbers.add(6)\n",
        "numbers"
      ]
    },
    {
      "cell_type": "markdown",
      "id": "7ff6b3e2",
      "metadata": {
        "id": "7ff6b3e2"
      },
      "source": [
        "---\n",
        "\n",
        "### Exercise 9:\n",
        "Remove the key `\"age\"` from the dictionary `person = {\"name\": \"John\", \"age\": 25, \"city\": \"New York\"}`.\n",
        "\n",
        "```python\n",
        "# Exercise 9\n",
        "```"
      ]
    },
    {
      "cell_type": "code",
      "execution_count": null,
      "id": "fad65a04",
      "metadata": {
        "id": "fad65a04",
        "outputId": "f0c7e045-c2aa-4ecd-9b90-5c576e9ade47"
      },
      "outputs": [
        {
          "name": "stdout",
          "output_type": "stream",
          "text": [
            "{'name': 'John', 'city': 'New York'}\n"
          ]
        }
      ],
      "source": [
        "person = {\"name\": \"John\", \"age\": 25, \"city\": \"New York\"}\n",
        "del person[\"age\"]\n",
        "print(person)"
      ]
    },
    {
      "cell_type": "markdown",
      "id": "0f181a8f",
      "metadata": {
        "id": "0f181a8f"
      },
      "source": [
        "---\n",
        "\n",
        "### Exercise 10:\n",
        "Create a range object starting from 0 to 9.\n",
        "\n",
        "```python\n",
        "# Exercise 10\n",
        "```"
      ]
    },
    {
      "cell_type": "code",
      "execution_count": null,
      "id": "ccc9405b",
      "metadata": {
        "id": "ccc9405b"
      },
      "outputs": [],
      "source": [
        "my_object=[]\n",
        "for i in range(10):\n",
        "    my_object.append(i)\n"
      ]
    },
    {
      "cell_type": "markdown",
      "id": "52fe3b9a",
      "metadata": {
        "id": "52fe3b9a"
      },
      "source": [
        "---\n",
        "\n",
        "### Exercise 11:\n",
        "Use a list comprehension to create a list of squares of numbers from 1 to 10.\n",
        "\n",
        "```python\n",
        "# Exercise 11\n",
        "```"
      ]
    },
    {
      "cell_type": "code",
      "execution_count": null,
      "id": "8297dfb7",
      "metadata": {
        "id": "8297dfb7"
      },
      "outputs": [],
      "source": [
        "my_object=[]\n",
        "for i in range(1,11):\n",
        "    my_object.append(i**2)\n"
      ]
    },
    {
      "cell_type": "markdown",
      "id": "f8154478",
      "metadata": {
        "id": "f8154478"
      },
      "source": [
        "---\n",
        "\n",
        "### Exercise 12:\n",
        "Create a tuple of even numbers between 2 and 10 using a tuple comprehension.\n",
        "\n",
        "```python\n",
        "# Exercise 12\n",
        "```"
      ]
    },
    {
      "cell_type": "code",
      "execution_count": null,
      "id": "79108583",
      "metadata": {
        "id": "79108583",
        "outputId": "4972a843-52d1-4337-b05b-06de710ce272"
      },
      "outputs": [
        {
          "name": "stdout",
          "output_type": "stream",
          "text": [
            "(2, 4, 6, 8, 10)\n"
          ]
        }
      ],
      "source": [
        "even = tuple(x for x in range(2, 11) if x % 2 == 0)\n",
        "print(even)"
      ]
    },
    {
      "cell_type": "markdown",
      "id": "9668edcc",
      "metadata": {
        "id": "9668edcc"
      },
      "source": [
        "---\n",
        "\n",
        "### Exercise 13:\n",
        "Use a for loop to iterate through the list `fruits = [\"apple\", \"banana\", \"cherry\"]` and print each element.\n",
        "\n",
        "```python\n",
        "# Exercise 13\n",
        "```"
      ]
    },
    {
      "cell_type": "code",
      "execution_count": null,
      "id": "1323e4ec",
      "metadata": {
        "id": "1323e4ec",
        "outputId": "ece2fc8e-d17d-4284-c349-3a1742fbf09f"
      },
      "outputs": [
        {
          "name": "stdout",
          "output_type": "stream",
          "text": [
            "apple\n",
            "banana\n",
            "cherry\n"
          ]
        }
      ],
      "source": [
        "fruits = [\"apple\", \"banana\", \"cherry\"]\n",
        "for f in fruits:\n",
        "    print(f)"
      ]
    },
    {
      "cell_type": "markdown",
      "id": "f912eaea",
      "metadata": {
        "id": "f912eaea"
      },
      "source": [
        "---\n",
        "\n",
        "### Exercise 14:\n",
        "Check if the value `3` exists in the set `numbers = {1, 2, 3, 4, 5}`.\n",
        "\n",
        "```python\n",
        "# Exercise 14\n",
        "```"
      ]
    },
    {
      "cell_type": "code",
      "execution_count": null,
      "id": "3eccaf7d",
      "metadata": {
        "id": "3eccaf7d",
        "outputId": "06b2a3ef-bb0d-49db-a1bc-555c04b7a6ba"
      },
      "outputs": [
        {
          "data": {
            "text/plain": [
              "True"
            ]
          },
          "execution_count": 24,
          "metadata": {},
          "output_type": "execute_result"
        }
      ],
      "source": [
        "numbers = {1, 2, 3, 4, 5}\n",
        "3.in(numbers)"
      ]
    },
    {
      "cell_type": "markdown",
      "id": "9c858ff2",
      "metadata": {
        "id": "9c858ff2"
      },
      "source": [
        "---\n",
        "\n",
        "### Exercise 15:\n",
        "Use the `len()` function to find the length of the tuple `numbers = (10, 20, 30)`.\n",
        "\n",
        "```python\n",
        "# Exercise 15\n",
        "```"
      ]
    },
    {
      "cell_type": "code",
      "execution_count": null,
      "id": "7c6d2823",
      "metadata": {
        "id": "7c6d2823",
        "outputId": "5afc4551-1cfe-455d-e8a3-354271283510"
      },
      "outputs": [
        {
          "data": {
            "text/plain": [
              "3"
            ]
          },
          "execution_count": 25,
          "metadata": {},
          "output_type": "execute_result"
        }
      ],
      "source": [
        "numbers = (10, 20, 30)\n",
        "len(numbers)"
      ]
    },
    {
      "cell_type": "markdown",
      "id": "1178d05f",
      "metadata": {
        "id": "1178d05f"
      },
      "source": [
        "---\n",
        "\n",
        "### Exercise 16:\n",
        "Add the value `100` at the end of the list `scores = [80, 85, 90, 95]`.\n",
        "\n",
        "```python\n",
        "# Exercise 16\n",
        "```"
      ]
    },
    {
      "cell_type": "code",
      "execution_count": null,
      "id": "8ea705ea",
      "metadata": {
        "id": "8ea705ea",
        "outputId": "bcbcdef8-92d6-48c8-9675-2a720252f4fa"
      },
      "outputs": [
        {
          "data": {
            "text/plain": [
              "[80, 85, 90, 95, 100]"
            ]
          },
          "execution_count": 26,
          "metadata": {},
          "output_type": "execute_result"
        }
      ],
      "source": [
        "scores = [80, 85, 90, 95]\n",
        "scores.append(100)\n",
        "scores"
      ]
    },
    {
      "cell_type": "markdown",
      "id": "07a084cb",
      "metadata": {
        "id": "07a084cb"
      },
      "source": [
        "---\n",
        "\n",
        "### Exercise 17:\n",
        "Write a function that takes a list as input and returns the sum of all elements in the list.\n",
        "\n",
        "```python\n",
        "# Exercise 17\n",
        "```"
      ]
    },
    {
      "cell_type": "code",
      "execution_count": null,
      "id": "b053dc45",
      "metadata": {
        "id": "b053dc45",
        "outputId": "ea0f8983-67a8-481d-e2c3-2b76bf6bb6b9"
      },
      "outputs": [
        {
          "data": {
            "text/plain": [
              "6"
            ]
          },
          "execution_count": 27,
          "metadata": {},
          "output_type": "execute_result"
        }
      ],
      "source": [
        "def somme(my_list):\n",
        "    s=0\n",
        "    for l in my_list:\n",
        "        s+=l\n",
        "    return s\n",
        "somme([1,2,3])"
      ]
    },
    {
      "cell_type": "markdown",
      "id": "9d83dbcc",
      "metadata": {
        "id": "9d83dbcc"
      },
      "source": [
        "---\n",
        "\n",
        "### Exercise 18:\n",
        "Create a set containing the unique elements of the list `numbers = [1, 2, 2, 3, 4, 4, 5]`.\n",
        "\n",
        "```python\n",
        "# Exercise 18\n",
        "```"
      ]
    },
    {
      "cell_type": "code",
      "execution_count": null,
      "id": "e569ad24",
      "metadata": {
        "id": "e569ad24",
        "outputId": "ffdf0511-eddf-4919-b951-dbb1314bd898"
      },
      "outputs": [
        {
          "data": {
            "text/plain": [
              "{1, 2, 3, 4, 5}"
            ]
          },
          "execution_count": 33,
          "metadata": {},
          "output_type": "execute_result"
        }
      ],
      "source": [
        "numbers = [1, 2, 2, 3, 4, 4, 5]\n",
        "my_set=set(numbers)\n",
        "my_set\n"
      ]
    },
    {
      "cell_type": "markdown",
      "id": "ee70bcda",
      "metadata": {
        "id": "ee70bcda"
      },
      "source": [
        "---\n",
        "\n",
        "### Exercise 19:\n",
        "Convert the string `\"hello\"` into a list of characters.\n",
        "\n",
        "```python\n",
        "# Exercise 19\n",
        "```"
      ]
    },
    {
      "cell_type": "code",
      "execution_count": null,
      "id": "db0b0e62",
      "metadata": {
        "id": "db0b0e62",
        "outputId": "95404408-498c-4d5e-d562-f0d2c9d98be9"
      },
      "outputs": [
        {
          "data": {
            "text/plain": [
              "['h', 'e', 'l', 'l', 'o']"
            ]
          },
          "execution_count": 34,
          "metadata": {},
          "output_type": "execute_result"
        }
      ],
      "source": [
        "hello=list(\"hello\")\n",
        "hello"
      ]
    },
    {
      "cell_type": "markdown",
      "id": "5e90a718",
      "metadata": {
        "id": "5e90a718"
      },
      "source": [
        "---\n",
        "\n",
        "### Exercise 20:\n",
        "Write a Python function that reverses a tuple `(1, 2, 3, 4)`.\n",
        "\n",
        "```python\n",
        "# Exercise 20\n",
        "```"
      ]
    },
    {
      "cell_type": "code",
      "execution_count": null,
      "id": "13e1808c",
      "metadata": {
        "id": "13e1808c"
      },
      "outputs": [],
      "source": []
    },
    {
      "cell_type": "markdown",
      "id": "1ed4618d",
      "metadata": {
        "id": "1ed4618d"
      },
      "source": [
        "---\n",
        "\n",
        "### Exercise 21:\n",
        "Merge two dictionaries `dict1 = {\"a\": 1, \"b\": 2}` and `dict2 = {\"c\": 3, \"d\": 4}` into a single dictionary.\n",
        "\n",
        "```python\n",
        "# Exercise 21\n",
        "```"
      ]
    },
    {
      "cell_type": "code",
      "execution_count": null,
      "id": "6d81f4c8",
      "metadata": {
        "id": "6d81f4c8",
        "outputId": "77cc787c-545f-46a2-9ae1-1e64a57dcb9d"
      },
      "outputs": [
        {
          "data": {
            "text/plain": [
              "{'a': 1, 'b': 2, 'c': 3, 'd': 4}"
            ]
          },
          "execution_count": 41,
          "metadata": {},
          "output_type": "execute_result"
        }
      ],
      "source": [
        "dict1 = {\"a\": 1, \"b\": 2}\n",
        "dict2 = {\"c\": 3, \"d\": 4}\n",
        "my_dict = {**dict1, **dict2}\n",
        "my_dict"
      ]
    },
    {
      "cell_type": "markdown",
      "id": "39110abb",
      "metadata": {
        "id": "39110abb"
      },
      "source": [
        "---\n",
        "\n",
        "### Exercise 22:\n",
        "Create a dictionary where keys are numbers from 1 to 5, and values are their squares.\n",
        "\n",
        "```python\n",
        "# Exercise 22\n",
        "```"
      ]
    },
    {
      "cell_type": "code",
      "execution_count": null,
      "id": "68f6e73d",
      "metadata": {
        "id": "68f6e73d",
        "outputId": "540dddc0-a58c-4851-b5e2-bff6fb0a3e20"
      },
      "outputs": [
        {
          "data": {
            "text/plain": [
              "{0: 0, 1: 1, 2: 4, 3: 9, 4: 16}"
            ]
          },
          "execution_count": 49,
          "metadata": {},
          "output_type": "execute_result"
        }
      ],
      "source": [
        "my_dict={}\n",
        "for i in range (5):\n",
        "    my_dict[i]=i**2\n",
        "my_dict"
      ]
    },
    {
      "cell_type": "markdown",
      "id": "9ea01649",
      "metadata": {
        "id": "9ea01649"
      },
      "source": [
        "---\n",
        "\n",
        "### Exercise 23:\n",
        "Write a Python program to iterate through a dictionary and print each key-value pair.\n",
        "\n",
        "```python\n",
        "# Exercise 23\n",
        "```"
      ]
    },
    {
      "cell_type": "code",
      "execution_count": null,
      "id": "81ff71e8",
      "metadata": {
        "id": "81ff71e8",
        "outputId": "7b92a228-9f65-4dba-aef8-779d19e6de0f"
      },
      "outputs": [
        {
          "name": "stdout",
          "output_type": "stream",
          "text": [
            "a 1\n",
            "b 2\n",
            "c 3\n",
            "d 4\n"
          ]
        }
      ],
      "source": [
        "my_dict={'a': 1, 'b': 2, 'c': 3, 'd': 4}\n",
        "for k in my_dict:\n",
        "    print(k, my_dict[k])"
      ]
    },
    {
      "cell_type": "markdown",
      "id": "23c3fd99",
      "metadata": {
        "id": "23c3fd99"
      },
      "source": [
        "---\n",
        "\n",
        "### Exercise 24:\n",
        "Create a list of the first 5 letters of the alphabet using the `chr()` function.\n",
        "\n",
        "```python\n",
        "# Exercise 24\n",
        "```"
      ]
    },
    {
      "cell_type": "code",
      "execution_count": null,
      "id": "96458a34",
      "metadata": {
        "id": "96458a34",
        "outputId": "46395618-cf2d-4323-fe86-7bd18b1a6c0b"
      },
      "outputs": [
        {
          "name": "stdout",
          "output_type": "stream",
          "text": [
            "['a', 'b', 'c', 'd', 'e']\n"
          ]
        }
      ],
      "source": [
        "# Create a list of the first 5 letters of the alphabet using chr()\n",
        "first_five_letters = [chr(i) for i in range(ord('a'), ord('a') + 5)]\n",
        "print(first_five_letters)"
      ]
    },
    {
      "cell_type": "markdown",
      "id": "6f7f6119",
      "metadata": {
        "id": "6f7f6119"
      },
      "source": [
        "---\n",
        "\n",
        "### Exercise 25:\n",
        "Use the `zip()` function to combine two lists `[1, 2, 3]` and `[\"a\", \"b\", \"c\"]` into a list of tuples.\n",
        "\n",
        "```python\n",
        "# Exercise 25\n",
        "```"
      ]
    },
    {
      "cell_type": "code",
      "execution_count": null,
      "id": "4950b359",
      "metadata": {
        "id": "4950b359",
        "outputId": "9b6fb91a-b329-46f3-c23b-f65378bae3df"
      },
      "outputs": [
        {
          "name": "stdout",
          "output_type": "stream",
          "text": [
            "[(1, 'a'), (2, 'b'), (3, 'c')]\n"
          ]
        }
      ],
      "source": [
        "list1 = [1, 2, 3]\n",
        "list2 = [\"a\", \"b\", \"c\"]\n",
        "\n",
        "# Combine the lists using zip()\n",
        "zipped_object = zip(list1, list2)\n",
        "\n",
        "# Convert the zip object to a list of tuples\n",
        "list_of_tuples = list(zipped_object)\n",
        "\n",
        "print(list_of_tuples)"
      ]
    },
    {
      "cell_type": "markdown",
      "id": "86cacb4c",
      "metadata": {
        "id": "86cacb4c"
      },
      "source": [
        "---\n",
        "\n",
        "### Exercise 26:\n",
        "Find the index of the value `50` in the list `[10, 20, 30, 40, 50]`.\n",
        "\n",
        "```python\n",
        "# Exercise 26\n",
        "```"
      ]
    },
    {
      "cell_type": "code",
      "execution_count": null,
      "id": "3c12b3e4",
      "metadata": {
        "id": "3c12b3e4",
        "outputId": "d5f86d32-450f-4469-a2a5-ea6112d2c084"
      },
      "outputs": [
        {
          "data": {
            "text/plain": [
              "4"
            ]
          },
          "execution_count": 60,
          "metadata": {},
          "output_type": "execute_result"
        }
      ],
      "source": [
        "my_list = [10, 20, 30, 40, 50]\n",
        "value_to_find = 50\n",
        "index = my_list.index(value_to_find)\n",
        "index"
      ]
    },
    {
      "cell_type": "markdown",
      "id": "fe26a5df",
      "metadata": {
        "id": "fe26a5df"
      },
      "source": [
        "---\n",
        "\n",
        "### Exercise 27:\n",
        "Sort the list `names = [\"Alice\", \"Bob\", \"Charlie\", \"David\"]` in alphabetical order.\n",
        "\n",
        "```python\n",
        "# Exercise 27\n",
        "```"
      ]
    },
    {
      "cell_type": "code",
      "execution_count": null,
      "id": "aa0cb458",
      "metadata": {
        "id": "aa0cb458",
        "outputId": "8c6176c6-9629-4822-9bba-6233442d1330"
      },
      "outputs": [
        {
          "data": {
            "text/plain": [
              "['Alice', 'Bob', 'Charlie', 'David']"
            ]
          },
          "execution_count": 63,
          "metadata": {},
          "output_type": "execute_result"
        }
      ],
      "source": [
        "names = [\"Alice\", \"David\", \"Bob\", \"Charlie\"]\n",
        "names.sort()\n",
        "names"
      ]
    },
    {
      "cell_type": "markdown",
      "id": "8f2770cd",
      "metadata": {
        "id": "8f2770cd"
      },
      "source": [
        "---\n",
        "\n",
        "### Exercise 28:\n",
        "Write a Python function that takes a list of integers as input and returns the largest number.\n",
        "\n",
        "```python\n",
        "# Exercise 28\n",
        "```"
      ]
    },
    {
      "cell_type": "code",
      "execution_count": null,
      "id": "66b9258d",
      "metadata": {
        "id": "66b9258d",
        "outputId": "6256407f-4806-4d70-a492-7bd835f19d5b"
      },
      "outputs": [
        {
          "name": "stdout",
          "output_type": "stream",
          "text": [
            "65\n"
          ]
        }
      ],
      "source": [
        "n=[2,3,65,1,3,7]\n",
        "print(max(n))"
      ]
    },
    {
      "cell_type": "markdown",
      "id": "e48fe30b",
      "metadata": {
        "id": "e48fe30b"
      },
      "source": [
        "---\n",
        "\n",
        "### Exercise 29:\n",
        "Use the `count()` method to count how many times `\"apple\"` appears in the list `fruits = [\"apple\", \"banana\", \"apple\", \"orange\"]`.\n",
        "\n",
        "```python\n",
        "# Exercise 29\n",
        "```"
      ]
    },
    {
      "cell_type": "code",
      "execution_count": null,
      "id": "68c24836",
      "metadata": {
        "id": "68c24836",
        "outputId": "f69e26d8-3479-4852-b645-3af4cefcb604"
      },
      "outputs": [
        {
          "data": {
            "text/plain": [
              "2"
            ]
          },
          "execution_count": 66,
          "metadata": {},
          "output_type": "execute_result"
        }
      ],
      "source": [
        "fruits = [\"apple\", \"banana\", \"apple\", \"orange\"]\n",
        "fruits.count('apple')"
      ]
    },
    {
      "cell_type": "markdown",
      "id": "f7b62283",
      "metadata": {
        "id": "f7b62283"
      },
      "source": [
        "---\n",
        "\n",
        "### Exercise 30:\n",
        "Create a dictionary `person` where keys are `\"name\"`, `\"age\"`, and `\"city\"`, and values are `\"Alice\"`, `25`, and `\"New York\"` respectively. Then access the value of the `\"city\"` key.\n",
        "\n",
        "```python\n",
        "# Exercise 30\n",
        "```"
      ]
    },
    {
      "cell_type": "code",
      "execution_count": null,
      "id": "cd57415c",
      "metadata": {
        "id": "cd57415c",
        "outputId": "7050d335-54ba-4ca4-faf0-46ada6d8331e"
      },
      "outputs": [
        {
          "data": {
            "text/plain": [
              "'New York'"
            ]
          },
          "execution_count": 67,
          "metadata": {},
          "output_type": "execute_result"
        }
      ],
      "source": [
        "person={\"name\":\"Alice\", \"age\":25,\"city\":\"New York\"}\n",
        "person['city']"
      ]
    },
    {
      "cell_type": "markdown",
      "id": "e2c06989",
      "metadata": {
        "id": "e2c06989"
      },
      "source": [
        "---\n",
        "\n",
        "### Exercise 31:\n",
        "Write a Python function that takes a list as input and returns a new list with all duplicates removed.\n",
        "\n",
        "```python\n",
        "# Exercise 31\n",
        "```"
      ]
    },
    {
      "cell_type": "code",
      "execution_count": null,
      "id": "a5c6d261",
      "metadata": {
        "id": "a5c6d261",
        "outputId": "d49827d4-7a94-41c9-8858-ca8e4e416ce2"
      },
      "outputs": [
        {
          "data": {
            "text/plain": [
              "[1, 3, 4, 5, 2]"
            ]
          },
          "execution_count": 75,
          "metadata": {},
          "output_type": "execute_result"
        }
      ],
      "source": [
        "def remove_duplicated(my_list):\n",
        "    return list(dict.fromkeys(my_list))\n",
        "    #return (my_list.fromkeys())\n",
        "\n",
        "remove_duplicated([1,3,4,5,3,2,1,5])"
      ]
    },
    {
      "cell_type": "markdown",
      "id": "1e8f8497",
      "metadata": {
        "id": "1e8f8497"
      },
      "source": [
        "---\n",
        "\n",
        "### Exercise 32:\n",
        "Write a Python function that takes two lists and returns their intersection.\n",
        "\n",
        "```python\n",
        "# Exercise 32\n",
        "```"
      ]
    },
    {
      "cell_type": "code",
      "execution_count": null,
      "id": "bfca60eb",
      "metadata": {
        "id": "bfca60eb",
        "outputId": "fa6a5e35-9bbd-409a-b47e-4629ea451616"
      },
      "outputs": [
        {
          "name": "stdout",
          "output_type": "stream",
          "text": [
            "{1, 3, 4, 5}\n"
          ]
        }
      ],
      "source": [
        "list1=[1,3,4,5,3,2,1,5]\n",
        "list2=[1,35,4,55,3,25,1,5]\n",
        "def intersection(list1,list2):\n",
        "    inter=[]\n",
        "    for i in list1:\n",
        "        if i in list2: inter.append(i)\n",
        "\n",
        "    inter=set(inter)\n",
        "    print(inter)\n",
        "\n",
        "intersection(list1,list2)\n",
        "\n"
      ]
    },
    {
      "cell_type": "markdown",
      "id": "14c1a947",
      "metadata": {
        "id": "14c1a947"
      },
      "source": [
        "---\n",
        "\n",
        "### Exercise 33:\n",
        "Create a generator that yields the squares of numbers from 1 to 10.\n",
        "\n",
        "```python\n",
        "# Exercise 33\n",
        "```"
      ]
    },
    {
      "cell_type": "code",
      "execution_count": null,
      "id": "ca47a71a",
      "metadata": {
        "id": "ca47a71a",
        "outputId": "42f44cb4-a01f-48e4-dee4-7212cf29de8c"
      },
      "outputs": [
        {
          "name": "stdout",
          "output_type": "stream",
          "text": [
            "1^2=1\n",
            "2^2=4\n",
            "3^2=9\n",
            "4^2=16\n",
            "5^2=25\n",
            "6^2=36\n",
            "7^2=49\n",
            "8^2=64\n",
            "9^2=81\n",
            "10^2=100\n"
          ]
        }
      ],
      "source": [
        "for i in range (1,11): print(f\"{i}^2={i*i}\")"
      ]
    },
    {
      "cell_type": "markdown",
      "id": "ee0e5e23",
      "metadata": {
        "id": "ee0e5e23"
      },
      "source": [
        "---\n",
        "\n",
        "### Exercise 34:\n",
        "Write a Python function that takes a dictionary as input and returns the sum of all its values.\n",
        "\n",
        "```python\n",
        "# Exercise 34\n",
        "```"
      ]
    },
    {
      "cell_type": "code",
      "execution_count": null,
      "id": "86dbdc01",
      "metadata": {
        "id": "86dbdc01",
        "outputId": "3fb21cb2-4221-490a-c522-4728f9bf96fe"
      },
      "outputs": [
        {
          "name": "stdout",
          "output_type": "stream",
          "text": [
            "6\n"
          ]
        }
      ],
      "source": [
        "def sum_dic(my_dict):\n",
        "    s=0\n",
        "    for k in my_dict:\n",
        "        s+=my_dict[k]\n",
        "    return s\n",
        "\n",
        "z=sum_dic({'a':1,'d':5})\n",
        "print(z)"
      ]
    },
    {
      "cell_type": "markdown",
      "id": "672e832f",
      "metadata": {
        "id": "672e832f"
      },
      "source": [
        "---\n",
        "\n",
        "### Exercise 35:\n",
        "Use the `sorted()` function to sort the list `[3, 1, 4, 1, 5, 9]` in ascending order.\n",
        "\n",
        "```python\n",
        "# Exercise 35\n",
        "```"
      ]
    },
    {
      "cell_type": "code",
      "execution_count": null,
      "id": "ab250bde",
      "metadata": {
        "id": "ab250bde",
        "outputId": "e65651bf-39e2-4f54-cc6b-94af2e0a1894"
      },
      "outputs": [
        {
          "name": "stdout",
          "output_type": "stream",
          "text": [
            "[1, 1, 3, 4, 5, 9]\n"
          ]
        }
      ],
      "source": [
        "print(sorted([3, 1, 4, 1, 5, 9]))"
      ]
    },
    {
      "cell_type": "markdown",
      "id": "342ed108",
      "metadata": {
        "id": "342ed108"
      },
      "source": [
        "---\n",
        "\n",
        "### Exercise 36:\n",
        "Write a Python function that takes a list of strings as input and returns the longest string.\n",
        "\n",
        "```python\n",
        "# Exercise 36\n",
        "```"
      ]
    },
    {
      "cell_type": "code",
      "execution_count": null,
      "id": "f7772414",
      "metadata": {
        "id": "f7772414",
        "outputId": "bc9caff2-6acd-4283-9f90-56caba193e01"
      },
      "outputs": [
        {
          "name": "stdout",
          "output_type": "stream",
          "text": [
            "anti social\n"
          ]
        }
      ],
      "source": [
        "def longest_string(my_list):\n",
        "    ls=''\n",
        "    for m in my_list:\n",
        "        if len(m)>=len(ls):\n",
        "            ls=m\n",
        "    return ls\n",
        "\n",
        "s=longest_string(['tot', 'cont', 'anti social', 'shit'])\n",
        "print(s)"
      ]
    },
    {
      "cell_type": "markdown",
      "id": "dfa48e05",
      "metadata": {
        "id": "dfa48e05"
      },
      "source": [
        "---\n",
        "\n",
        "### Exercise 37:\n",
        "Check if all the elements in the list `[1, 2, 3, 4, 5]` are greater than 0 using the `all()` function.\n",
        "\n",
        "```python\n",
        "# Exercise 37\n",
        "```"
      ]
    },
    {
      "cell_type": "code",
      "execution_count": null,
      "id": "66995885",
      "metadata": {
        "id": "66995885",
        "outputId": "db649be2-ab13-45d2-cc7f-d3982d631b53"
      },
      "outputs": [
        {
          "data": {
            "text/plain": [
              "True"
            ]
          },
          "execution_count": 97,
          "metadata": {},
          "output_type": "execute_result"
        }
      ],
      "source": [
        "all([1, -2, 3, 4, 5])"
      ]
    },
    {
      "cell_type": "code",
      "execution_count": null,
      "id": "4ffb37a4",
      "metadata": {
        "id": "4ffb37a4",
        "outputId": "543a7f99-9c3a-4ab8-c9ae-401c420f2f4b"
      },
      "outputs": [
        {
          "name": "stdout",
          "output_type": "stream",
          "text": [
            "Help on built-in function all in module builtins:\n",
            "\n",
            "all(iterable, /)\n",
            "    Return True if bool(x) is True for all values x in the iterable.\n",
            "    \n",
            "    If the iterable is empty, return True.\n",
            "\n"
          ]
        }
      ],
      "source": [
        "help(all)"
      ]
    },
    {
      "cell_type": "markdown",
      "id": "1ce18b8e",
      "metadata": {
        "id": "1ce18b8e"
      },
      "source": [
        "---\n",
        "\n",
        "### Exercise 38:\n",
        "Create a list of tuples where each tuple contains a number and its square for numbers from 1 to 5.\n",
        "\n",
        "```python\n",
        "# Exercise 38\n",
        "```"
      ]
    },
    {
      "cell_type": "code",
      "execution_count": null,
      "id": "944dc38e",
      "metadata": {
        "id": "944dc38e",
        "outputId": "9ec5f197-3cfb-4e1d-fc0b-882f3b251226"
      },
      "outputs": [
        {
          "name": "stdout",
          "output_type": "stream",
          "text": [
            "[(1, 1), (2, 4), (3, 9), (4, 16), (5, 25)]\n"
          ]
        }
      ],
      "source": [
        "my_list=[]\n",
        "for i in range(1,6):\n",
        "    my_list.append((i,i*i))\n",
        "print( my_list)\n"
      ]
    },
    {
      "cell_type": "markdown",
      "id": "50a266bb",
      "metadata": {
        "id": "50a266bb"
      },
      "source": [
        "---\n",
        "\n",
        "### Exercise 39:\n",
        "Write a Python function that takes a list of tuples and returns a list of the second elements from each tuple.\n",
        "\n",
        "```python\n",
        "# Exercise 39\n",
        "```"
      ]
    },
    {
      "cell_type": "code",
      "execution_count": null,
      "id": "be11be69",
      "metadata": {
        "id": "be11be69",
        "outputId": "8eb0d113-8982-45bf-8d49-b0d5b2c00589"
      },
      "outputs": [
        {
          "name": "stdout",
          "output_type": "stream",
          "text": [
            "[1, 4, 9, 16, 25]\n"
          ]
        }
      ],
      "source": [
        "def second_element(tup_list):\n",
        "    se=[]\n",
        "    for t in tup_list:\n",
        "        se.append(t[1])\n",
        "    print(se)\n",
        "\n",
        "second_element([(1, 1), (2, 4), (3, 9), (4, 16), (5, 25)])"
      ]
    },
    {
      "cell_type": "markdown",
      "id": "0223a775",
      "metadata": {
        "id": "0223a775"
      },
      "source": [
        "---\n",
        "\n",
        "### Exercise 40:\n",
        "Write a Python function that flattens a list of lists into a single list.\n",
        "\n",
        "```python\n",
        "# Exercise 40\n",
        "```"
      ]
    },
    {
      "cell_type": "code",
      "source": [
        "def flatten_list(my_list):\n",
        "  fl=[]\n",
        "  for sub_list in my_list:\n",
        "    for i in sub_list:\n",
        "      fl.append(i)\n",
        "  return (fl)\n",
        "\n",
        "print(flatten_list([[1, 4, 9, 16, 25], ['alice', 'bob'],['r', 'w','de',2]]))"
      ],
      "metadata": {
        "colab": {
          "base_uri": "https://localhost:8080/"
        },
        "id": "_7DbvqO65LKV",
        "outputId": "968f67df-8c84-46d1-b92b-6790b5c01c88"
      },
      "id": "_7DbvqO65LKV",
      "execution_count": null,
      "outputs": [
        {
          "output_type": "stream",
          "name": "stdout",
          "text": [
            "[1, 4, 9, 16, 25, 'alice', 'bob', 'r', 'w', 'de', 2]\n"
          ]
        }
      ]
    },
    {
      "cell_type": "markdown",
      "id": "6fa8a39b",
      "metadata": {
        "id": "6fa8a39b"
      },
      "source": [
        "---\n",
        "\n",
        "### Exercise 41:\n",
        "Use the `enumerate()` function to iterate through the list `[\"apple\", \"banana\", \"cherry\"]` and print the index and value.\n",
        "\n",
        "```python\n",
        "# Exercise 41\n",
        "```"
      ]
    },
    {
      "cell_type": "code",
      "source": [
        "# Exercise 41\n",
        "fruits = [\"apple\", \"banana\", \"cherry\"]\n",
        "\n",
        "for index, value in enumerate(fruits):\n",
        "    print(f\"Index: {index}, Value: {value}\")\n"
      ],
      "metadata": {
        "colab": {
          "base_uri": "https://localhost:8080/"
        },
        "id": "ZgfhVKJkQzLt",
        "outputId": "afabffa9-2f54-4181-90a5-a8fd4348a4f7"
      },
      "id": "ZgfhVKJkQzLt",
      "execution_count": null,
      "outputs": [
        {
          "output_type": "stream",
          "name": "stdout",
          "text": [
            "Index: 0, Value: apple\n",
            "Index: 1, Value: banana\n",
            "Index: 2, Value: cherry\n"
          ]
        }
      ]
    },
    {
      "cell_type": "markdown",
      "id": "b484e7d7",
      "metadata": {
        "id": "b484e7d7"
      },
      "source": [
        "---\n",
        "\n",
        "### Exercise 42:\n",
        "Write a Python program that checks if a tuple is empty.\n",
        "\n",
        "```python\n",
        "# Exercise 42\n",
        "```"
      ]
    },
    {
      "cell_type": "code",
      "source": [
        "my_tuple = (1,2,2)\n",
        "\n",
        "if not my_tuple:\n",
        "    print(\"The tuple is empty.\")\n",
        "else:\n",
        "    print(\"The tuple is not empty.\")\n"
      ],
      "metadata": {
        "colab": {
          "base_uri": "https://localhost:8080/"
        },
        "id": "Sw4-KzMzQGwv",
        "outputId": "a560ee76-32a7-4125-ed8d-ac4c560554c6"
      },
      "id": "Sw4-KzMzQGwv",
      "execution_count": null,
      "outputs": [
        {
          "output_type": "stream",
          "name": "stdout",
          "text": [
            "The tuple is not empty.\n"
          ]
        }
      ]
    },
    {
      "cell_type": "markdown",
      "id": "0a396663",
      "metadata": {
        "id": "0a396663"
      },
      "source": [
        "---\n",
        "\n",
        "### Exercise 43:\n",
        "Create a list of even numbers between 1 and 20 using the `range()` function.\n",
        "\n",
        "```python\n",
        "# Exercise 43\n",
        "```"
      ]
    },
    {
      "cell_type": "code",
      "source": [
        "even_numbers = list(range(2, 21, 2))\n",
        "print(even_numbers)\n"
      ],
      "metadata": {
        "colab": {
          "base_uri": "https://localhost:8080/"
        },
        "id": "6SlG1t_tSR64",
        "outputId": "8a65ffb2-0427-4ec7-d686-62b0e7280b7e"
      },
      "id": "6SlG1t_tSR64",
      "execution_count": null,
      "outputs": [
        {
          "output_type": "stream",
          "name": "stdout",
          "text": [
            "[2, 4, 6, 8, 10, 12, 14, 16, 18, 20]\n"
          ]
        }
      ]
    },
    {
      "cell_type": "markdown",
      "id": "e2503cc6",
      "metadata": {
        "id": "e2503cc6"
      },
      "source": [
        "---\n",
        "\n",
        "### Exercise 44:\n",
        "Write a Python function that takes a list of numbers as input and returns the list in reverse order.\n",
        "\n",
        "```python\n",
        "# Exercise 44\n",
        "```"
      ]
    },
    {
      "cell_type": "code",
      "source": [
        "def reverse_list(my_list):\n",
        "  my_list = my_list[::-1]\n",
        "  return my_list\n",
        "\n",
        "print(reverse_list([1,2,3,4,5]))"
      ],
      "metadata": {
        "colab": {
          "base_uri": "https://localhost:8080/"
        },
        "id": "YvQ0NmE3TtqQ",
        "outputId": "d33d42d3-40cc-4a35-d798-169ffe7d7c17"
      },
      "id": "YvQ0NmE3TtqQ",
      "execution_count": null,
      "outputs": [
        {
          "output_type": "stream",
          "name": "stdout",
          "text": [
            "[5, 4, 3, 2, 1]\n"
          ]
        }
      ]
    },
    {
      "cell_type": "markdown",
      "id": "dba41ea0",
      "metadata": {
        "id": "dba41ea0"
      },
      "source": [
        "---\n",
        "\n",
        "### Exercise 45:\n",
        "Create a dictionary comprehension that maps numbers from 1 to 5 to their cubes.\n",
        "\n",
        "```python\n",
        "# Exercise 45\n",
        "```"
      ]
    },
    {
      "cell_type": "code",
      "source": [
        "cubes = {x: x**3 for x in range(1, 6)}\n",
        "print(cubes)"
      ],
      "metadata": {
        "colab": {
          "base_uri": "https://localhost:8080/"
        },
        "id": "CHA-Km6UUz1O",
        "outputId": "934dfef2-9a51-4026-af0c-d633cd8642c6"
      },
      "id": "CHA-Km6UUz1O",
      "execution_count": null,
      "outputs": [
        {
          "output_type": "stream",
          "name": "stdout",
          "text": [
            "{1: 1, 2: 8, 3: 27, 4: 64, 5: 125}\n"
          ]
        }
      ]
    },
    {
      "cell_type": "markdown",
      "id": "57f79162",
      "metadata": {
        "id": "57f79162"
      },
      "source": [
        "---\n",
        "\n",
        "### Exercise 46:\n",
        "Write a Python program that creates a new list containing only the unique elements of the list `[1, 2, 2, 3, 4, 4, 5]`.\n",
        "\n",
        "```python\n",
        "# Exercise 46\n",
        "```"
      ]
    },
    {
      "cell_type": "code",
      "source": [
        "new_list=list(set([1, 2, 2, 3, 4, 4, 5]))\n",
        "print(new_list)"
      ],
      "metadata": {
        "colab": {
          "base_uri": "https://localhost:8080/"
        },
        "id": "UGjUJzeFVu_T",
        "outputId": "670182f0-b737-4c4d-d285-bcce869758ca"
      },
      "id": "UGjUJzeFVu_T",
      "execution_count": null,
      "outputs": [
        {
          "output_type": "stream",
          "name": "stdout",
          "text": [
            "[1, 2, 3, 4, 5]\n"
          ]
        }
      ]
    },
    {
      "cell_type": "markdown",
      "id": "43664044",
      "metadata": {
        "id": "43664044"
      },
      "source": [
        "---\n",
        "\n",
        "### Exercise 47:\n",
        "Write a Python function that takes a list of dictionaries and returns a list of the values for a given key.\n",
        "\n",
        "```python\n",
        "# Exercise 47\n",
        "```"
      ]
    },
    {
      "cell_type": "code",
      "source": [
        "def fetch_list_dictionnary(list_dict, cle):\n",
        "    return [d[cle] for d in list_dict if cle in d]\n",
        "\n",
        "\n",
        "fetch_list_dictionnary([{\"name\": \"Alice\", \"age\": 25},{\"name\": \"Bob\", \"age\": 30},\n",
        "    {\"name\": \"Charlie\"}], \"name\")\n"
      ],
      "metadata": {
        "colab": {
          "base_uri": "https://localhost:8080/"
        },
        "id": "_RMW4gTYWdwb",
        "outputId": "63cf74db-b663-44eb-97ac-9e43136213b0"
      },
      "id": "_RMW4gTYWdwb",
      "execution_count": null,
      "outputs": [
        {
          "output_type": "execute_result",
          "data": {
            "text/plain": [
              "['Alice', 'Bob', 'Charlie']"
            ]
          },
          "metadata": {},
          "execution_count": 23
        }
      ]
    },
    {
      "cell_type": "markdown",
      "id": "a4e9498d",
      "metadata": {
        "id": "a4e9498d"
      },
      "source": [
        "---\n",
        "\n",
        "### Exercise 48:\n",
        "Write a Python function that uses a generator to yield the Fibonacci sequence up to `n` terms.\n",
        "\n",
        "```python\n",
        "# Exercise 48\n",
        "```"
      ]
    },
    {
      "cell_type": "code",
      "source": [
        "def fibonacci_generator(n):\n",
        "    a, b = 0, 1\n",
        "    for _ in range(n):\n",
        "        yield a\n",
        "        a, b = b, a + b\n",
        "\n",
        "\n",
        "for num in fibonacci_generator(10):\n",
        "    print(num)\n"
      ],
      "metadata": {
        "colab": {
          "base_uri": "https://localhost:8080/"
        },
        "id": "gKcYvAoQZ5wY",
        "outputId": "50eb3322-8f9b-4814-e5db-885d2fd69986"
      },
      "id": "gKcYvAoQZ5wY",
      "execution_count": null,
      "outputs": [
        {
          "output_type": "stream",
          "name": "stdout",
          "text": [
            "0\n",
            "1\n",
            "1\n",
            "2\n",
            "3\n",
            "5\n",
            "8\n",
            "13\n",
            "21\n",
            "34\n"
          ]
        }
      ]
    },
    {
      "cell_type": "markdown",
      "id": "e33838bd",
      "metadata": {
        "id": "e33838bd"
      },
      "source": [
        "---\n",
        "\n",
        "### Exercise 49:\n",
        "Write a Python function that takes a string and returns a list of all unique characters in the string.\n",
        "\n",
        "```python\n",
        "# Exercise 49\n",
        "```"
      ]
    },
    {
      "cell_type": "code",
      "source": [
        "def decomposition_string(my_string):\n",
        "  char_list=[]\n",
        "  for c in my_string:\n",
        "    if c not in char_list:\n",
        "      char_list.append(c)\n",
        "  return char_list\n",
        "\n",
        "print(decomposition_string(\"sability\"))"
      ],
      "metadata": {
        "colab": {
          "base_uri": "https://localhost:8080/"
        },
        "id": "BPHNqiIObtKj",
        "outputId": "adc6b071-3ce6-44f8-b295-8f9dbaba2042"
      },
      "id": "BPHNqiIObtKj",
      "execution_count": null,
      "outputs": [
        {
          "output_type": "stream",
          "name": "stdout",
          "text": [
            "['s', 'a', 'b', 'i', 'l', 't', 'y']\n"
          ]
        }
      ]
    },
    {
      "cell_type": "markdown",
      "id": "c42a1968",
      "metadata": {
        "id": "c42a1968"
      },
      "source": [
        "---\n",
        "\n",
        "### Exercise 50:\n",
        "Write a Python function that merges two sorted lists into a single sorted list.\n",
        "\n",
        "```python\n",
        "# Exercise 50\n",
        "```"
      ]
    },
    {
      "cell_type": "code",
      "source": [
        "def merge_sorted_lists(list1, list2):\n",
        "    merged = []\n",
        "    i = j = 0\n",
        "\n",
        "    while i < len(list1) and j < len(list2):\n",
        "        if list1[i] < list2[j]:\n",
        "            merged.append(list1[i])\n",
        "            i += 1\n",
        "        else:\n",
        "            merged.append(list2[j])\n",
        "            j += 1\n",
        "\n",
        "    merged.extend(list1[i:])\n",
        "    merged.extend(list2[j:])\n",
        "\n",
        "    return merged\n"
      ],
      "metadata": {
        "id": "LaFj07PveiLG"
      },
      "id": "LaFj07PveiLG",
      "execution_count": null,
      "outputs": []
    },
    {
      "cell_type": "code",
      "source": [
        "list1 = [1, 3, 5, 7]\n",
        "list2 = [2, 4, 6, 8]\n",
        "\n",
        "result = merge_sorted_lists(list1, list2)\n",
        "print(result)\n"
      ],
      "metadata": {
        "colab": {
          "base_uri": "https://localhost:8080/"
        },
        "id": "D41gFqa9fqic",
        "outputId": "e95fd822-adcc-4f38-d827-7f17f3c90714"
      },
      "id": "D41gFqa9fqic",
      "execution_count": null,
      "outputs": [
        {
          "output_type": "stream",
          "name": "stdout",
          "text": [
            "[1, 2, 3, 4, 5, 6, 7, 8]\n"
          ]
        }
      ]
    },
    {
      "cell_type": "markdown",
      "id": "a4b5da98",
      "metadata": {
        "id": "a4b5da98"
      },
      "source": [
        "---\n",
        "\n",
        "### Exercise 51:\n",
        "Use the\n",
        "\n",
        " `filter()` function to filter out odd numbers from the list `[1, 2, 3, 4, 5, 6]`.\n",
        "\n",
        "```python\n",
        "# Exercise 51\n",
        "```"
      ]
    },
    {
      "cell_type": "code",
      "source": [
        "list(filter(lambda x: x % 2 == 0, [1, 2, 3, 4, 5, 6]))"
      ],
      "metadata": {
        "colab": {
          "base_uri": "https://localhost:8080/"
        },
        "id": "M7HYQ_sgf7VY",
        "outputId": "dc59d904-fef4-49f9-f80f-e2c1053f9ac3"
      },
      "id": "M7HYQ_sgf7VY",
      "execution_count": null,
      "outputs": [
        {
          "output_type": "execute_result",
          "data": {
            "text/plain": [
              "[2, 4, 6]"
            ]
          },
          "metadata": {},
          "execution_count": 43
        }
      ]
    },
    {
      "cell_type": "markdown",
      "id": "fb6036d0",
      "metadata": {
        "id": "fb6036d0"
      },
      "source": [
        "---\n",
        "\n",
        "### Exercise 52:\n",
        "Write a Python program that converts a list of tuples `[(1, 2), (3, 4), (5, 6)]` into a dictionary.\n",
        "\n",
        "```python\n",
        "# Exercise 52\n",
        "```"
      ]
    },
    {
      "cell_type": "code",
      "source": [
        "tuple_list = [(1, 2), (3, 4), (5, 6)]\n",
        "result_dict = dict(tuple_list)\n",
        "print(result_dict)\n"
      ],
      "metadata": {
        "colab": {
          "base_uri": "https://localhost:8080/"
        },
        "id": "sPZuoj7Ryqri",
        "outputId": "7fcc0c20-5b80-446c-88e8-9e0ab82f2f49"
      },
      "id": "sPZuoj7Ryqri",
      "execution_count": null,
      "outputs": [
        {
          "output_type": "stream",
          "name": "stdout",
          "text": [
            "{1: 2, 3: 4, 5: 6}\n"
          ]
        }
      ]
    },
    {
      "cell_type": "markdown",
      "id": "2ed43dce",
      "metadata": {
        "id": "2ed43dce"
      },
      "source": [
        "---\n",
        "\n",
        "### Exercise 53:\n",
        "Write a Python function that takes two sets and returns their symmetric difference.\n",
        "\n",
        "```python\n",
        "# Exercise 53\n",
        "```"
      ]
    },
    {
      "cell_type": "code",
      "source": [
        "def symmetric_difference(set1, set2):\n",
        "    return set1 ^ set2\n",
        "\n",
        "a={1,2,3,4,5}\n",
        "b={0,9,4,8,2}\n",
        "symmetric_difference(a,b)"
      ],
      "metadata": {
        "colab": {
          "base_uri": "https://localhost:8080/"
        },
        "id": "tSG6znhmzLd3",
        "outputId": "bdc660e1-2278-4ed3-eab2-e01a0aef3e22"
      },
      "id": "tSG6znhmzLd3",
      "execution_count": null,
      "outputs": [
        {
          "output_type": "execute_result",
          "data": {
            "text/plain": [
              "{0, 1, 3, 5, 8, 9}"
            ]
          },
          "metadata": {},
          "execution_count": 2
        }
      ]
    },
    {
      "cell_type": "markdown",
      "id": "b4a2eada",
      "metadata": {
        "id": "b4a2eada"
      },
      "source": [
        "---\n",
        "\n",
        "### Exercise 54:\n",
        "Write a Python program that finds the common elements in three lists `list1`, `list2`, and `list3`.\n",
        "\n",
        "```python\n",
        "# Exercise 54\n",
        "```"
      ]
    },
    {
      "cell_type": "code",
      "source": [
        "def common_element(list1,list2,list3):\n",
        "  return list(set(list1)&set(list2)&set(list3))\n",
        "\n",
        "a=['a','c',2]\n",
        "b=['a','b','c','d']\n",
        "c=['do','re','a','de','tu','c']\n",
        "print(common_element(a,b,c))"
      ],
      "metadata": {
        "colab": {
          "base_uri": "https://localhost:8080/"
        },
        "id": "Fxj4P3wi0d4J",
        "outputId": "de15f61a-97c5-46ff-9b04-35562081b3a8"
      },
      "id": "Fxj4P3wi0d4J",
      "execution_count": null,
      "outputs": [
        {
          "output_type": "stream",
          "name": "stdout",
          "text": [
            "['c', 'a']\n"
          ]
        }
      ]
    },
    {
      "cell_type": "markdown",
      "id": "5d07ab0a",
      "metadata": {
        "id": "5d07ab0a"
      },
      "source": [
        "---\n",
        "\n",
        "### Exercise 55:\n",
        "Write a Python function that returns the factorial of a number using recursion.\n",
        "\n",
        "```python\n",
        "# Exercise 55\n",
        "```"
      ]
    },
    {
      "cell_type": "code",
      "source": [
        "def factorial(n):\n",
        "  if n<0: return \"impossible\"\n",
        "  elif n<=1: return 1\n",
        "  return n*factorial(n-1)\n",
        "\n",
        "print(factorial(6))\n",
        "print(factorial(-3))"
      ],
      "metadata": {
        "colab": {
          "base_uri": "https://localhost:8080/"
        },
        "id": "KLlpp9AY2f_0",
        "outputId": "0d7e4b57-87cb-42e3-a39a-23a894ab18aa"
      },
      "id": "KLlpp9AY2f_0",
      "execution_count": null,
      "outputs": [
        {
          "output_type": "stream",
          "name": "stdout",
          "text": [
            "720\n",
            "impossible\n"
          ]
        }
      ]
    },
    {
      "cell_type": "markdown",
      "id": "9672ca23",
      "metadata": {
        "id": "9672ca23"
      },
      "source": [
        "---\n",
        "\n",
        "### Exercise 56:\n",
        "Write a Python program that removes all empty strings from the list `[\"apple\", \"\", \"banana\", \"\", \"cherry\"]`.\n",
        "\n",
        "```python\n",
        "# Exercise 56\n",
        "```"
      ]
    },
    {
      "cell_type": "code",
      "source": [
        "list1=[\"apple\", \"\", \"banana\", \"\", \"cherry\"]\n",
        "list2=[l for l in list1 if l !=\"\"]\n",
        "print (list2)\n"
      ],
      "metadata": {
        "colab": {
          "base_uri": "https://localhost:8080/"
        },
        "id": "aACqU_-M3cf4",
        "outputId": "07d1178b-fef4-4344-f79f-848966f7a93e"
      },
      "id": "aACqU_-M3cf4",
      "execution_count": null,
      "outputs": [
        {
          "output_type": "stream",
          "name": "stdout",
          "text": [
            "['apple', 'banana', 'cherry']\n"
          ]
        }
      ]
    },
    {
      "cell_type": "markdown",
      "id": "825cffaa",
      "metadata": {
        "id": "825cffaa"
      },
      "source": [
        "---\n",
        "\n",
        "### Exercise 57:\n",
        "Write a Python function that takes a dictionary and returns a new dictionary with the keys and values swapped.\n",
        "\n",
        "```python\n",
        "# Exercise 57\n",
        "```"
      ]
    },
    {
      "cell_type": "code",
      "source": [
        "def swap_key_value(dic):\n",
        "  return({v:k for k,v in dic.items()})\n",
        "\n",
        "dico={'a':1,'b':2}\n",
        "print(swap_key_value(dico))"
      ],
      "metadata": {
        "colab": {
          "base_uri": "https://localhost:8080/"
        },
        "id": "8U5Qp5Ca48MR",
        "outputId": "e71f88c1-d4b9-4bcc-8852-39f560df57f6"
      },
      "id": "8U5Qp5Ca48MR",
      "execution_count": null,
      "outputs": [
        {
          "output_type": "stream",
          "name": "stdout",
          "text": [
            "{1: 'a', 2: 'b'}\n"
          ]
        }
      ]
    },
    {
      "cell_type": "markdown",
      "id": "ccec624f",
      "metadata": {
        "id": "ccec624f"
      },
      "source": [
        "---\n",
        "\n",
        "### Exercise 58:\n",
        "Write a Python function that takes a list of integers and returns a new list with only the even numbers.\n",
        "\n",
        "```python\n",
        "# Exercise 58\n",
        "```"
      ]
    },
    {
      "cell_type": "code",
      "source": [
        "def sort_even(list1):\n",
        "  return(list(l for l in list1 if l%2==0))\n",
        "\n",
        "print(sort_even([0,1,2,3,4,5,6]))"
      ],
      "metadata": {
        "colab": {
          "base_uri": "https://localhost:8080/"
        },
        "id": "E7gy0pkm7O3n",
        "outputId": "e0fec324-f703-4095-e3c5-e4507b425786"
      },
      "id": "E7gy0pkm7O3n",
      "execution_count": null,
      "outputs": [
        {
          "output_type": "stream",
          "name": "stdout",
          "text": [
            "[0, 2, 4, 6]\n"
          ]
        }
      ]
    },
    {
      "cell_type": "markdown",
      "id": "6eb141f7",
      "metadata": {
        "id": "6eb141f7"
      },
      "source": [
        "---\n",
        "\n",
        "### Exercise 59:\n",
        "Write a Python function that takes a list of tuples and returns a list of the first elements of each tuple.\n",
        "\n",
        "```python\n",
        "# Exercise 59\n",
        "```"
      ]
    },
    {
      "cell_type": "code",
      "source": [
        "def first_tuple_elt(tuple1):\n",
        "  return (list(l[0] for l in tuple1))\n",
        "\n",
        "print(first_tuple_elt([(1,2),(4,5),(2,9)]))"
      ],
      "metadata": {
        "colab": {
          "base_uri": "https://localhost:8080/"
        },
        "id": "nFjF5nBm8FqA",
        "outputId": "c54321bc-e744-4e62-8e39-fa0a1ffa5328"
      },
      "id": "nFjF5nBm8FqA",
      "execution_count": null,
      "outputs": [
        {
          "output_type": "stream",
          "name": "stdout",
          "text": [
            "[1, 4, 2]\n"
          ]
        }
      ]
    },
    {
      "cell_type": "markdown",
      "id": "da1cf9c8",
      "metadata": {
        "id": "da1cf9c8"
      },
      "source": [
        "---\n",
        "\n",
        "### Exercise 60:\n",
        "Write a Python program that removes duplicates from a list without changing the order of elements.\n",
        "\n",
        "```python\n",
        "# Exercise 60\n",
        "```"
      ]
    },
    {
      "cell_type": "code",
      "source": [
        "def remove_duplicates(list1):\n",
        "    new_list=[]\n",
        "    for i in list1:\n",
        "        if i not in new_list:\n",
        "            new_list.append(i)\n",
        "    return new_list\n",
        "\n",
        "my_list = [1, 2, 2, 3, 4, 4, 5, 1]\n",
        "print(remove_duplicates(my_list))\n"
      ],
      "metadata": {
        "colab": {
          "base_uri": "https://localhost:8080/"
        },
        "id": "FO14sBoA87EN",
        "outputId": "e934dbcd-4292-4755-e186-8f59b7fbfce5"
      },
      "id": "FO14sBoA87EN",
      "execution_count": null,
      "outputs": [
        {
          "output_type": "stream",
          "name": "stdout",
          "text": [
            "[1, 2, 3, 4, 5]\n"
          ]
        }
      ]
    },
    {
      "cell_type": "markdown",
      "id": "0afb4834",
      "metadata": {
        "id": "0afb4834"
      },
      "source": [
        "---\n",
        "\n",
        "### Exercise 61:\n",
        "Use the `map()` function to convert a list of strings to a list of their lengths.\n",
        "\n",
        "```python\n",
        "# Exercise 61\n",
        "```"
      ]
    },
    {
      "cell_type": "code",
      "source": [
        "def map_word_lenght(list1):\n",
        "  return list(map(len,list1))\n",
        "\n",
        "print(map_word_lenght([\"alice\", \"bob\", \"charlie\"]))"
      ],
      "metadata": {
        "colab": {
          "base_uri": "https://localhost:8080/"
        },
        "id": "wHTFJIbh-ceh",
        "outputId": "f3bfc97b-bf8c-4cae-93c2-3d6066b99a2d"
      },
      "id": "wHTFJIbh-ceh",
      "execution_count": null,
      "outputs": [
        {
          "output_type": "stream",
          "name": "stdout",
          "text": [
            "[5, 3, 7]\n"
          ]
        }
      ]
    },
    {
      "cell_type": "markdown",
      "id": "6d5298ce",
      "metadata": {
        "id": "6d5298ce"
      },
      "source": [
        "---\n",
        "\n",
        "### Exercise 62:\n",
        "Write a Python program that calculates the average of a list of numbers.\n",
        "\n",
        "```python\n",
        "# Exercise 62\n",
        "```"
      ]
    },
    {
      "cell_type": "code",
      "source": [
        "def average_number(list1):\n",
        "  average=0\n",
        "  for i in list1:\n",
        "    average+=i\n",
        "  average=average/len(list1)\n",
        "  return (average)\n",
        "\n",
        "print(average_number([3,4,5,1]))"
      ],
      "metadata": {
        "colab": {
          "base_uri": "https://localhost:8080/"
        },
        "id": "EUpCLYTz_EXQ",
        "outputId": "ff46e9ea-629e-47c5-bcd1-13d61d834771"
      },
      "id": "EUpCLYTz_EXQ",
      "execution_count": null,
      "outputs": [
        {
          "output_type": "stream",
          "name": "stdout",
          "text": [
            "3.25\n"
          ]
        }
      ]
    },
    {
      "cell_type": "markdown",
      "id": "d55c02d9",
      "metadata": {
        "id": "d55c02d9"
      },
      "source": [
        "---\n",
        "\n",
        "### Exercise 63:\n",
        "Write a Python function that generates a list of the first `n` Fibonacci numbers.\n",
        "\n",
        "```python\n",
        "# Exercise 63\n",
        "```"
      ]
    },
    {
      "cell_type": "code",
      "source": [
        "def fibonacci_generator(n):\n",
        "  if n==0: return 0\n",
        "  if n==1:return 1\n",
        "  return(fibonacci_generator(n-1)+fibonacci_generator(n-2))\n",
        "\n",
        "\n",
        "def generate_list(x):\n",
        "  my_list=[]\n",
        "  for i in range(x+1):\n",
        "    my_list.append(fibonacci_generator(i))\n",
        "  return my_list\n",
        "\n",
        "print(generate_list(10))\n",
        "\n"
      ],
      "metadata": {
        "colab": {
          "base_uri": "https://localhost:8080/"
        },
        "id": "wxgNF3N0AUQm",
        "outputId": "479901c8-f7cf-49c8-b920-e7d280241307"
      },
      "id": "wxgNF3N0AUQm",
      "execution_count": null,
      "outputs": [
        {
          "output_type": "stream",
          "name": "stdout",
          "text": [
            "[0, 1, 1, 2, 3, 5, 8, 13, 21, 34, 55]\n"
          ]
        }
      ]
    },
    {
      "cell_type": "markdown",
      "id": "71440d7a",
      "metadata": {
        "id": "71440d7a"
      },
      "source": [
        "---\n",
        "\n",
        "### Exercise 64:\n",
        "Write a Python program that counts how many times each element appears in the list `[\"apple\", \"banana\", \"apple\", \"cherry\"]`.\n",
        "\n",
        "```python\n",
        "# Exercise 64\n",
        "```"
      ]
    },
    {
      "cell_type": "code",
      "source": [
        "1 in {1: 'a', 2: 'b'}.keys()"
      ],
      "metadata": {
        "colab": {
          "base_uri": "https://localhost:8080/"
        },
        "id": "JUmWfrgY6-11",
        "outputId": "b3916102-7cef-44ae-bf85-60e9d16cba41"
      },
      "id": "JUmWfrgY6-11",
      "execution_count": null,
      "outputs": [
        {
          "output_type": "execute_result",
          "data": {
            "text/plain": [
              "True"
            ]
          },
          "metadata": {},
          "execution_count": 7
        }
      ]
    },
    {
      "cell_type": "code",
      "source": [
        "def count_times(list1):\n",
        "  dic={}\n",
        "  for l in list1:\n",
        "    if l in dic.keys():\n",
        "      dic[l]+=1\n",
        "    else:\n",
        "      dic[l]=1\n",
        "  return dic\n",
        "\n",
        "print(count_times([\"apple\", \"banana\", \"apple\", \"cherry\"]))"
      ],
      "metadata": {
        "colab": {
          "base_uri": "https://localhost:8080/"
        },
        "id": "r3xiwkDF5wvy",
        "outputId": "bc7ff469-52ff-43ce-8d98-239f88534d18"
      },
      "id": "r3xiwkDF5wvy",
      "execution_count": null,
      "outputs": [
        {
          "output_type": "stream",
          "name": "stdout",
          "text": [
            "{'apple': 2, 'banana': 1, 'cherry': 1}\n"
          ]
        }
      ]
    },
    {
      "cell_type": "markdown",
      "id": "173c07a9",
      "metadata": {
        "id": "173c07a9"
      },
      "source": [
        "---\n",
        "\n",
        "### Exercise 65:\n",
        "Write a Python program that removes all occurrences of a specific value from a list.\n",
        "\n",
        "```python\n",
        "# Exercise 65\n",
        "```"
      ]
    },
    {
      "cell_type": "code",
      "source": [
        "def remove_occurence(list1, x):\n",
        "  return list(l for l in list1 if l!=x)\n",
        "\n",
        "print(remove_occurence([\"apple\", \"banana\", \"apple\", \"cherry\"], \"apple\"))\n"
      ],
      "metadata": {
        "colab": {
          "base_uri": "https://localhost:8080/"
        },
        "id": "HqJr3BMF72J2",
        "outputId": "6de49c77-0dd5-4ff6-b0d6-521559e1be74"
      },
      "id": "HqJr3BMF72J2",
      "execution_count": null,
      "outputs": [
        {
          "output_type": "stream",
          "name": "stdout",
          "text": [
            "['banana', 'cherry']\n"
          ]
        }
      ]
    },
    {
      "cell_type": "markdown",
      "id": "34cd6009",
      "metadata": {
        "id": "34cd6009"
      },
      "source": [
        "---\n",
        "\n",
        "### Exercise 66:\n",
        "Write a Python function that takes a list of strings and returns a list of the strings that start with a vowel.\n",
        "\n",
        "```python\n",
        "# Exercise 66\n",
        "```"
      ]
    },
    {
      "cell_type": "code",
      "source": [
        "def start_vowel(list1):\n",
        "  return list(l for l in list1 if l[0] in \"aeiouyAEIOUY\")\n",
        "\n",
        "print(start_vowel([\"apple\", \"banana\", \"cherry\", \"date\"]))"
      ],
      "metadata": {
        "colab": {
          "base_uri": "https://localhost:8080/"
        },
        "id": "AYZLrS5_-Ng3",
        "outputId": "f72d4df9-48b0-4b3d-c6ce-d150a675e8e1"
      },
      "id": "AYZLrS5_-Ng3",
      "execution_count": null,
      "outputs": [
        {
          "output_type": "stream",
          "name": "stdout",
          "text": [
            "['apple']\n"
          ]
        }
      ]
    },
    {
      "cell_type": "markdown",
      "id": "c274dde4",
      "metadata": {
        "id": "c274dde4"
      },
      "source": [
        "---\n",
        "\n",
        "### Exercise 67:\n",
        "Write a Python program that finds the intersection of two sets `set1` and `set2`.\n",
        "\n",
        "```python\n",
        "# Exercise 67\n",
        "```"
      ]
    },
    {
      "cell_type": "code",
      "source": [
        "def set_intersection(set1, set2):\n",
        "    return set1 & set2\n",
        "\n",
        "print(set_intersection({1, 2, 3}, {2, 3, 4}))"
      ],
      "metadata": {
        "colab": {
          "base_uri": "https://localhost:8080/"
        },
        "id": "41P-GtZK-w20",
        "outputId": "d5b3c3ce-34f7-464b-fdc2-43f26230889c"
      },
      "id": "41P-GtZK-w20",
      "execution_count": null,
      "outputs": [
        {
          "output_type": "stream",
          "name": "stdout",
          "text": [
            "{2, 3}\n"
          ]
        }
      ]
    },
    {
      "cell_type": "markdown",
      "id": "6dbd8868",
      "metadata": {
        "id": "6dbd8868"
      },
      "source": [
        "---\n",
        "\n",
        "### Exercise 68:\n",
        "Write a Python function that flattens a nested list.\n",
        "\n",
        "```python\n",
        "# Exercise 68\n",
        "```"
      ]
    },
    {
      "cell_type": "code",
      "source": [
        "def flatten_list(list1):\n",
        "    flattened = []\n",
        "    for sub_list in list1:\n",
        "        for l in sub_list:\n",
        "          flattened.append(l)\n",
        "    return flattened\n",
        "\n",
        "print(flatten_list([[1, 2, 3], [4, 5], [6, 5, 8, 9]]))"
      ],
      "metadata": {
        "colab": {
          "base_uri": "https://localhost:8080/"
        },
        "id": "mUSE_D9h_DoE",
        "outputId": "7ab5d126-92c4-4e69-a05c-a3b99da194e7"
      },
      "id": "mUSE_D9h_DoE",
      "execution_count": null,
      "outputs": [
        {
          "output_type": "stream",
          "name": "stdout",
          "text": [
            "[1, 2, 3, 4, 5, 6, 5, 8, 9]\n"
          ]
        }
      ]
    },
    {
      "cell_type": "markdown",
      "id": "8e52fca9",
      "metadata": {
        "id": "8e52fca9"
      },
      "source": [
        "---\n",
        "\n",
        "### Exercise 69:\n",
        "Write a Python program that checks if all the elements in a list are unique.\n",
        "\n",
        "```python\n",
        "# Exercise 69\n",
        "```"
      ]
    },
    {
      "cell_type": "code",
      "source": [
        "def check_unique_elt(list1, elt):\n",
        "  if list1.count(elt)==1: print(\"unique\")\n",
        "  elif list1.count(elt)>0: print('duplicated')\n",
        "  else: print(\"not in list\")\n",
        "\n",
        "check_unique_elt([1,2,3,2,3,5,6], 1)"
      ],
      "metadata": {
        "colab": {
          "base_uri": "https://localhost:8080/"
        },
        "id": "A_MrqqqeAwA5",
        "outputId": "65340670-a50b-4d69-81f4-81bf2107ceda"
      },
      "id": "A_MrqqqeAwA5",
      "execution_count": null,
      "outputs": [
        {
          "output_type": "stream",
          "name": "stdout",
          "text": [
            "unique\n"
          ]
        }
      ]
    },
    {
      "cell_type": "markdown",
      "id": "ac3ecbc3",
      "metadata": {
        "id": "ac3ecbc3"
      },
      "source": [
        "---\n",
        "\n",
        "### Exercise 70:\n",
        "Use the `reduce()` function from the `functools` module to multiply all elements in a list.\n",
        "\n",
        "```python\n",
        "# Exercise 70\n",
        "```"
      ]
    },
    {
      "cell_type": "code",
      "source": [
        "from functools import reduce\n",
        "reduce(lambda x, y: x * y, [1, 2, 3, 4, 5])\n",
        "\n"
      ],
      "metadata": {
        "colab": {
          "base_uri": "https://localhost:8080/"
        },
        "id": "ziBUfp6OCBlD",
        "outputId": "3ab9c49a-70ba-43b9-a484-75d507a42cb8"
      },
      "id": "ziBUfp6OCBlD",
      "execution_count": null,
      "outputs": [
        {
          "output_type": "execute_result",
          "data": {
            "text/plain": [
              "120"
            ]
          },
          "metadata": {},
          "execution_count": 21
        }
      ]
    },
    {
      "cell_type": "markdown",
      "id": "d4726236",
      "metadata": {
        "id": "d4726236"
      },
      "source": [
        "---\n",
        "\n",
        "### Exercise 71:\n",
        "Write a Python function that takes a list of strings and returns a dictionary where keys are strings and values are their lengths.\n",
        "\n",
        "```python\n",
        "# Exercise 71\n",
        "```"
      ]
    },
    {
      "cell_type": "code",
      "source": [
        "def key_value_string(list1):\n",
        "  return({l:len(l) for l in list1})\n",
        "\n",
        "print(key_value_string([\"alice\", \"bob\", \"charlie\"]))"
      ],
      "metadata": {
        "colab": {
          "base_uri": "https://localhost:8080/"
        },
        "id": "a8AKfARXCiz7",
        "outputId": "7a161b83-1628-417e-a4bb-42d2adc2d6b4"
      },
      "id": "a8AKfARXCiz7",
      "execution_count": null,
      "outputs": [
        {
          "output_type": "stream",
          "name": "stdout",
          "text": [
            "{'alice': 5, 'bob': 3, 'charlie': 7}\n"
          ]
        }
      ]
    },
    {
      "cell_type": "markdown",
      "id": "dd3d3435",
      "metadata": {
        "id": "dd3d3435"
      },
      "source": [
        "---\n",
        "\n",
        "### Exercise 72:\n",
        "Write a Python program that counts the number of vowels in a string.\n",
        "\n",
        "```python\n",
        "# Exercise 72\n",
        "```"
      ]
    },
    {
      "cell_type": "code",
      "source": [
        "def count_vowel(my_string):\n",
        "  vowel_count=0\n",
        "  for c in my_string:\n",
        "    if c in \"aoieuyAEIOUY\":\n",
        "      vowel_count+=1\n",
        "  return vowel_count\n",
        "\n",
        "print(count_vowel(\"LIEUMO\"))"
      ],
      "metadata": {
        "colab": {
          "base_uri": "https://localhost:8080/"
        },
        "id": "DPNV1Gt2C1cf",
        "outputId": "98f60081-1a86-4c00-f81c-7d08336ef856"
      },
      "id": "DPNV1Gt2C1cf",
      "execution_count": null,
      "outputs": [
        {
          "output_type": "stream",
          "name": "stdout",
          "text": [
            "4\n"
          ]
        }
      ]
    },
    {
      "cell_type": "markdown",
      "id": "46cc71ec",
      "metadata": {
        "id": "46cc71ec"
      },
      "source": [
        "---\n",
        "\n",
        "### Exercise 73:\n",
        "Create a list of tuples where each tuple contains a number from 1 to 5 and its factorial.\n",
        "\n",
        "```python\n",
        "# Exercise 73\n",
        "```"
      ]
    },
    {
      "cell_type": "code",
      "source": [
        "def factorial(n):\n",
        "  if n<0: return \"impossible\"\n",
        "  elif n<=1: return 1\n",
        "  return n*factorial(n-1)\n",
        "\n",
        "list1=list((i,factorial(i)) for i in range(1,6))\n",
        "print(list1)"
      ],
      "metadata": {
        "colab": {
          "base_uri": "https://localhost:8080/"
        },
        "id": "jnUaCrkuEoTV",
        "outputId": "2b38aefe-267c-48bc-cbc5-ff4fe99076a9"
      },
      "id": "jnUaCrkuEoTV",
      "execution_count": null,
      "outputs": [
        {
          "output_type": "stream",
          "name": "stdout",
          "text": [
            "[(1, 1), (2, 2), (3, 6), (4, 24), (5, 120)]\n"
          ]
        }
      ]
    },
    {
      "cell_type": "markdown",
      "id": "b49b9020",
      "metadata": {
        "id": "b49b9020"
      },
      "source": [
        "---\n",
        "\n",
        "### Exercise 74:\n",
        "Write a Python program that converts a list of dictionaries into a single dictionary by merging them.\n",
        "\n",
        "```python\n",
        "# Exercise 74\n",
        "```"
      ]
    },
    {
      "cell_type": "code",
      "source": [
        "def merge_dict(list1):\n",
        "  merged_dict={}\n",
        "  for d in list1:\n",
        "    merged_dict.update(d)\n",
        "  return merged_dict\n",
        "\n",
        "list1=[{'a': 1, 'b': 2}, {'c': 3, 'd': 4, 'a':2}]\n",
        "print(merge_dict(list1))"
      ],
      "metadata": {
        "colab": {
          "base_uri": "https://localhost:8080/"
        },
        "id": "fveYzAMWFisS",
        "outputId": "e735ecb6-e7e1-43f9-a534-b14512e8b2f0"
      },
      "id": "fveYzAMWFisS",
      "execution_count": null,
      "outputs": [
        {
          "output_type": "stream",
          "name": "stdout",
          "text": [
            "{'a': 2, 'b': 2, 'c': 3, 'd': 4}\n"
          ]
        }
      ]
    },
    {
      "cell_type": "markdown",
      "id": "ec0658f6",
      "metadata": {
        "id": "ec0658f6"
      },
      "source": [
        "---\n",
        "\n",
        "### Exercise 75:\n",
        "Write a Python function that checks if a set is a subset of another set.\n",
        "\n",
        "```python\n",
        "# Exercise 75\n",
        "```"
      ]
    },
    {
      "cell_type": "code",
      "source": [
        "def is_subset(set1,set2):\n",
        "  for s in set1:\n",
        "    if s not in set2:\n",
        "      return False\n",
        "  return True\n",
        "\n",
        "print(is_subset({1, 82, 3}, {1, 2, 3, 4, 5}))"
      ],
      "metadata": {
        "colab": {
          "base_uri": "https://localhost:8080/"
        },
        "id": "8AyZER7hGTXM",
        "outputId": "a5fd015a-8eb6-4afb-b7a5-1367f9196351"
      },
      "id": "8AyZER7hGTXM",
      "execution_count": null,
      "outputs": [
        {
          "output_type": "stream",
          "name": "stdout",
          "text": [
            "False\n"
          ]
        }
      ]
    },
    {
      "cell_type": "markdown",
      "id": "f138f798",
      "metadata": {
        "id": "f138f798"
      },
      "source": [
        "---\n",
        "\n",
        "### Exercise 76:\n",
        "Write a Python program that sorts a list of tuples based on the second element in each tuple.\n",
        "\n",
        "```python\n",
        "# Exercise 76\n",
        "```"
      ]
    },
    {
      "cell_type": "code",
      "source": [
        "def sort_elt(list1):\n",
        "  for elt in range(len(list1)):\n",
        "    for e in range(len(list1)):\n",
        "      if list1[elt][1]<list1[e][1]:\n",
        "        k=list1[elt]\n",
        "        list1[elt]=list1[e]\n",
        "        list1[e]=k\n",
        "\n",
        "  return list1\n",
        "\n",
        "print(sort_elt([(1, 3), (3, 7), (2, 1)]))"
      ],
      "metadata": {
        "colab": {
          "base_uri": "https://localhost:8080/"
        },
        "id": "ya6IxyxFHoSJ",
        "outputId": "3b21b8a4-8a98-489e-a780-dac2914f84bb"
      },
      "id": "ya6IxyxFHoSJ",
      "execution_count": null,
      "outputs": [
        {
          "output_type": "stream",
          "name": "stdout",
          "text": [
            "[(2, 1), (1, 3), (3, 7)]\n"
          ]
        }
      ]
    },
    {
      "cell_type": "markdown",
      "id": "0d76e021",
      "metadata": {
        "id": "0d76e021"
      },
      "source": [
        "---\n",
        "\n",
        "### Exercise 77:\n",
        "Write a Python function that takes a list of integers and returns a new list with only the positive integers.\n",
        "\n",
        "```python\n",
        "# Exercise 77\n",
        "```"
      ]
    },
    {
      "cell_type": "code",
      "source": [
        "def positive_integer(list1):\n",
        "  return list( i for i in list1 if int(i)>0)\n",
        "\n",
        "print(positive_integer([1,0,3,-2,-5]))\n"
      ],
      "metadata": {
        "colab": {
          "base_uri": "https://localhost:8080/"
        },
        "id": "oPG_57RNM9TE",
        "outputId": "61abcd2a-454c-4f9a-f96f-d134a4cb720f"
      },
      "id": "oPG_57RNM9TE",
      "execution_count": null,
      "outputs": [
        {
          "output_type": "stream",
          "name": "stdout",
          "text": [
            "[1, 3]\n"
          ]
        }
      ]
    },
    {
      "cell_type": "markdown",
      "id": "99b6c803",
      "metadata": {
        "id": "99b6c803"
      },
      "source": [
        "---\n",
        "\n",
        "### Exercise 78:\n",
        "Write a Python function that takes two sets and returns their union.\n",
        "\n",
        "```python\n",
        "# Exercise 78\n",
        "```"
      ]
    },
    {
      "cell_type": "code",
      "source": [
        "def union_set(set1, set2):\n",
        "    return set1 | set2\n",
        "\n",
        "print(union_set({1, 2, 3}, {2, 3, 4}))"
      ],
      "metadata": {
        "colab": {
          "base_uri": "https://localhost:8080/"
        },
        "id": "uoY99HzPOBa6",
        "outputId": "ce8a2aee-9996-42e0-fd09-a9b5b79969e8"
      },
      "id": "uoY99HzPOBa6",
      "execution_count": null,
      "outputs": [
        {
          "output_type": "stream",
          "name": "stdout",
          "text": [
            "{1, 2, 3, 4}\n"
          ]
        }
      ]
    },
    {
      "cell_type": "markdown",
      "id": "1cf968da",
      "metadata": {
        "id": "1cf968da"
      },
      "source": [
        "---\n",
        "\n",
        "### Exercise 79:\n",
        "Write a Python function that takes a list of numbers and returns the product of all the numbers.\n",
        "\n",
        "```python\n",
        "# Exercise 79\n",
        "```"
      ]
    },
    {
      "cell_type": "code",
      "source": [
        "def list_product(list1):\n",
        "  product=1\n",
        "  for i in list1: product*=i\n",
        "  return product\n",
        "\n",
        "print(list_product([1, 2, 3, 4, 5]))"
      ],
      "metadata": {
        "colab": {
          "base_uri": "https://localhost:8080/"
        },
        "id": "AvUquMxFOdul",
        "outputId": "c049b43e-4313-4262-9c4c-d7237fb6daf6"
      },
      "id": "AvUquMxFOdul",
      "execution_count": null,
      "outputs": [
        {
          "output_type": "stream",
          "name": "stdout",
          "text": [
            "120\n"
          ]
        }
      ]
    },
    {
      "cell_type": "markdown",
      "id": "83e1a824",
      "metadata": {
        "id": "83e1a824"
      },
      "source": [
        "---\n",
        "\n",
        "### Exercise 80:\n",
        "Write a Python program that converts a list of characters into a string.\n",
        "\n",
        "```python\n",
        "# Exercise 80\n",
        "```"
      ]
    },
    {
      "cell_type": "code",
      "source": [
        "def list_to_string(list1):\n",
        "  new_string=\"\"\n",
        "  for l in list1:\n",
        "    new_string+=l\n",
        "  return new_string\n",
        "\n",
        "print(list_to_string(['a', 'b', 'c']))"
      ],
      "metadata": {
        "colab": {
          "base_uri": "https://localhost:8080/"
        },
        "id": "obpCvQlWP5_e",
        "outputId": "2a9d03b3-9b80-4d23-f54e-cca0ce59923b"
      },
      "id": "obpCvQlWP5_e",
      "execution_count": null,
      "outputs": [
        {
          "output_type": "stream",
          "name": "stdout",
          "text": [
            "abc\n"
          ]
        }
      ]
    },
    {
      "cell_type": "markdown",
      "id": "1d133b78",
      "metadata": {
        "id": "1d133b78"
      },
      "source": [
        "---\n",
        "\n",
        "### Exercise 81:\n",
        "Write a Python program that finds the second largest number in a list of integers.\n",
        "\n",
        "```python\n",
        "# Exercise 81\n",
        "```"
      ]
    },
    {
      "cell_type": "code",
      "source": [
        "def second_max(list1):\n",
        "  max=list1[0]\n",
        "  smax=list1[0]\n",
        "  for l in list1:\n",
        "    if l>max:\n",
        "      smax=max\n",
        "      max=l\n",
        "    else:\n",
        "      if smax<l: smax=l\n",
        "  return smax\n",
        "\n",
        "print(second_max([4,1,5,3,17,7,2]))"
      ],
      "metadata": {
        "colab": {
          "base_uri": "https://localhost:8080/"
        },
        "id": "XoaeOK-mQIES",
        "outputId": "b6a0c341-1f42-405d-ce00-50f2fc78c404"
      },
      "id": "XoaeOK-mQIES",
      "execution_count": null,
      "outputs": [
        {
          "output_type": "stream",
          "name": "stdout",
          "text": [
            "7\n"
          ]
        }
      ]
    },
    {
      "cell_type": "markdown",
      "id": "1e00dbf8",
      "metadata": {
        "id": "1e00dbf8"
      },
      "source": [
        "---\n",
        "\n",
        "### Exercise 82:\n",
        "Write a Python function that takes a dictionary and returns a list of its keys in sorted order.\n",
        "\n",
        "```python\n",
        "# Exercise 82\n",
        "```"
      ]
    },
    {
      "cell_type": "code",
      "source": [
        "def list_key(dic):\n",
        "  return list(sorted(set(k for k in dic)))\n",
        "print(list_key({'palice': 5, 'bob': 3, 'charlie': 7}))"
      ],
      "metadata": {
        "colab": {
          "base_uri": "https://localhost:8080/"
        },
        "id": "yed_zT9oS8X0",
        "outputId": "6b3c48eb-8140-48fb-fb14-ceac4ad0ea13"
      },
      "id": "yed_zT9oS8X0",
      "execution_count": null,
      "outputs": [
        {
          "output_type": "stream",
          "name": "stdout",
          "text": [
            "['bob', 'charlie', 'palice']\n"
          ]
        }
      ]
    },
    {
      "cell_type": "markdown",
      "id": "a3557204",
      "metadata": {
        "id": "a3557204"
      },
      "source": [
        "---\n",
        "\n",
        "### Exercise 83:\n",
        "Write a Python program that finds the most common element in a list.\n",
        "\n",
        "```python\n",
        "# Exercise 83\n",
        "```"
      ]
    },
    {
      "cell_type": "code",
      "source": [
        "def must_common_elt(list1):\n",
        "  dic={}\n",
        "  max=0\n",
        "  elt=None\n",
        "  for l in list1:\n",
        "    if l  in dic.keys(): dic[l]+=1\n",
        "    else: dic[l]=1\n",
        "  for k,v in dic.items():\n",
        "    if v>max:\n",
        "      max=v\n",
        "      elt=k\n",
        "  return elt\n",
        "\n",
        "\n",
        "print(must_common_elt([1,3,2,4,5,1,4,1]))"
      ],
      "metadata": {
        "colab": {
          "base_uri": "https://localhost:8080/"
        },
        "id": "oeqsSJpsVHXS",
        "outputId": "67b07e0d-30fe-47eb-e417-2257fe83a224"
      },
      "id": "oeqsSJpsVHXS",
      "execution_count": null,
      "outputs": [
        {
          "output_type": "stream",
          "name": "stdout",
          "text": [
            "1\n"
          ]
        }
      ]
    },
    {
      "cell_type": "markdown",
      "id": "3c6fcee0",
      "metadata": {
        "id": "3c6fcee0"
      },
      "source": [
        "---\n",
        "\n",
        "### Exercise 84:\n",
        "Write a Python function that takes a list of tuples and returns a list of the tuples sorted by the first element.\n",
        "\n",
        "```python\n",
        "# Exercise 84\n",
        "```"
      ]
    },
    {
      "cell_type": "code",
      "source": [
        "def sort_elt(list1):\n",
        "  for elt in range(len(list1)):\n",
        "    for e in range(len(list1)):\n",
        "      if list1[elt][0]<list1[e][0]:\n",
        "        k=list1[elt]\n",
        "        list1[elt]=list1[e]\n",
        "        list1[e]=k\n",
        "\n",
        "  return list1\n",
        "\n",
        "print(sort_elt([(17, 3), (3, 7), (2, 1)]))"
      ],
      "metadata": {
        "colab": {
          "base_uri": "https://localhost:8080/"
        },
        "id": "FVB0fB0Dacv3",
        "outputId": "116ae3f4-355e-4833-a0dd-624fafd40457"
      },
      "id": "FVB0fB0Dacv3",
      "execution_count": null,
      "outputs": [
        {
          "output_type": "stream",
          "name": "stdout",
          "text": [
            "[(2, 1), (3, 7), (17, 3)]\n"
          ]
        }
      ]
    },
    {
      "cell_type": "markdown",
      "id": "82119933",
      "metadata": {
        "id": "82119933"
      },
      "source": [
        "---\n",
        "\n",
        "### Exercise 85:\n",
        "Write a Python program that removes duplicates from a list of dictionaries.\n",
        "\n",
        "```python\n",
        "# Exercise 85\n",
        "```"
      ]
    },
    {
      "cell_type": "code",
      "source": [
        "def remove_duplicate(list1):\n",
        "  new_list=[]\n",
        "  for l in list1:\n",
        "    if l not in new_list:\n",
        "      new_list.append(l)\n",
        "  return new_list"
      ],
      "metadata": {
        "id": "OPjBWiEpasw8"
      },
      "id": "OPjBWiEpasw8",
      "execution_count": null,
      "outputs": []
    },
    {
      "cell_type": "markdown",
      "id": "856a9d4a",
      "metadata": {
        "id": "856a9d4a"
      },
      "source": [
        "---\n",
        "\n",
        "### Exercise 86:\n",
        "Write a Python function that takes a list of numbers and returns the minimum and maximum numbers in the list.\n",
        "\n",
        "```python\n",
        "# Exercise 86\n",
        "```"
      ]
    },
    {
      "cell_type": "code",
      "source": [
        "# Exercise 86\n",
        "def min_max(list1):\n",
        "  min=list1[0]\n",
        "  max=list1[0]\n",
        "  for l in list1:\n",
        "    if l<min:\n",
        "      min=l\n",
        "    if l>max:\n",
        "      max=l\n",
        "  return min,max"
      ],
      "metadata": {
        "id": "lymUg3tTJmOw"
      },
      "id": "lymUg3tTJmOw",
      "execution_count": null,
      "outputs": []
    },
    {
      "cell_type": "markdown",
      "id": "9f271dab",
      "metadata": {
        "id": "9f271dab"
      },
      "source": [
        "---\n",
        "\n",
        "### Exercise 87:\n",
        "Write a Python program that creates a list of tuples from two lists.\n",
        "\n",
        "```python\n",
        "# Exercise 87\n",
        "```"
      ]
    },
    {
      "cell_type": "markdown",
      "id": "e0703a3e",
      "metadata": {
        "id": "e0703a3e"
      },
      "source": [
        "---\n",
        "\n",
        "### Exercise 88:\n",
        "Write a Python function that takes a list of strings and returns a list of the strings in reverse order.\n",
        "\n",
        "```python\n",
        "\n",
        "```"
      ]
    },
    {
      "cell_type": "code",
      "source": [
        "# Exercise 88\n",
        "def string_list(list1):\n",
        "  new_list=[]\n",
        "  for l in list1:\n",
        "    new_list.append(l[::-1])\n",
        "  return new_list\n"
      ],
      "metadata": {
        "id": "92CPdgMZKIQl"
      },
      "id": "92CPdgMZKIQl",
      "execution_count": null,
      "outputs": []
    },
    {
      "cell_type": "markdown",
      "id": "0d63fb86",
      "metadata": {
        "id": "0d63fb86"
      },
      "source": [
        "---\n",
        "\n",
        "### Exercise 89:\n",
        "Write a Python function that takes a list of integers and returns the sum of all odd numbers.\n",
        "\n",
        "```python\n",
        "\n",
        "```"
      ]
    },
    {
      "cell_type": "code",
      "source": [
        "# Exercise 89\n",
        "def sum_odd_even(list1):\n",
        "  sum_odd=0\n",
        "  sum_even=0\n",
        "  for l in list1:\n",
        "    if l%2== 0:\n",
        "      sum_even+=l\n",
        "    else:\n",
        "      sum_odd+=l\n",
        "\n",
        "  return sum_odd, sum_even"
      ],
      "metadata": {
        "id": "POOhZscPK0X5"
      },
      "id": "POOhZscPK0X5",
      "execution_count": null,
      "outputs": []
    },
    {
      "cell_type": "markdown",
      "id": "79138e2a",
      "metadata": {
        "id": "79138e2a"
      },
      "source": [
        "---\n",
        "\n",
        "### Exercise 90:\n",
        "Write a Python program that checks if a string is a palindrome.\n",
        "\n",
        "```python\n",
        "# Exercise 90\n",
        "```"
      ]
    },
    {
      "cell_type": "code",
      "source": [
        "def palindrome(my_string):\n",
        "  if my_string==my_string[::-1]:\n",
        "    return True\n",
        "  else:\n",
        "    return False"
      ],
      "metadata": {
        "id": "eW450QNjQlij"
      },
      "id": "eW450QNjQlij",
      "execution_count": null,
      "outputs": []
    },
    {
      "cell_type": "markdown",
      "id": "e917fd9a",
      "metadata": {
        "id": "e917fd9a"
      },
      "source": [
        "---\n",
        "\n",
        "### Exercise 91:\n",
        "Write a Python program that finds the median of a list of numbers.\n",
        "\n",
        "```python\n",
        "# Exercise 91\n",
        "```"
      ]
    },
    {
      "cell_type": "code",
      "source": [
        "def mediane(list1):\n",
        "  list1=list1.sort()\n",
        "  if len(list1)%2==1:\n",
        "    position_mediane=len(list1)//2+1\n",
        "    return list1[position_mediane]\n",
        "  else:\n",
        "    x=len(list1)/2\n",
        "    return (list1[x]+list1[x+1])/2\n"
      ],
      "metadata": {
        "id": "8aD2g2YNRwN1"
      },
      "id": "8aD2g2YNRwN1",
      "execution_count": null,
      "outputs": []
    },
    {
      "cell_type": "markdown",
      "id": "44828823",
      "metadata": {
        "id": "44828823"
      },
      "source": [
        "---\n",
        "\n",
        "### Exercise 92:\n",
        "Write a Python function that takes a list of dictionaries and returns a dictionary with the total value for each key.\n",
        "\n",
        "```python\n",
        "# Exercise 92\n",
        "```"
      ]
    },
    {
      "cell_type": "code",
      "source": [
        "def sum_dicts(dict_list):\n",
        "    result = {}\n",
        "    for d in dict_list:\n",
        "        for k, v in d.items():\n",
        "            if k in result:\n",
        "                result[k] += v\n",
        "            else:\n",
        "                result[k] = v\n",
        "    return result"
      ],
      "metadata": {
        "id": "b-80kmx_eGPv"
      },
      "id": "b-80kmx_eGPv",
      "execution_count": null,
      "outputs": []
    },
    {
      "cell_type": "markdown",
      "id": "449539a2",
      "metadata": {
        "id": "449539a2"
      },
      "source": [
        "---\n",
        "\n",
        "### Exercise 93:\n",
        "Write a Python program that calculates the mode of a list of numbers.\n",
        "\n",
        "```python\n",
        "# Exercise 93\n",
        "```"
      ]
    },
    {
      "cell_type": "code",
      "source": [
        "def calculate_mode(list1):\n",
        "    freq = {}\n",
        "    for n in list1:\n",
        "        if n in freq:\n",
        "            freq[n] += 1\n",
        "        else:\n",
        "            freq[n] = 1\n",
        "\n",
        "    max_freq = 0\n",
        "    for f in freq.values():\n",
        "        if f > max_freq:\n",
        "            max_freq = f\n",
        "\n",
        "    modes = []\n",
        "    for n, f in freq.items():\n",
        "        if f == max_freq:\n",
        "            modes.append(n)\n",
        "\n",
        "    return modes\n",
        "\n",
        "# Example usage:\n",
        "data = [1, 2, 2, 3, 3]\n",
        "print(calculate_mode(data))\n"
      ],
      "metadata": {
        "colab": {
          "base_uri": "https://localhost:8080/"
        },
        "id": "sLhHg5cffzNj",
        "outputId": "268c7bf0-241d-48a9-f677-b774d13101b2"
      },
      "id": "sLhHg5cffzNj",
      "execution_count": null,
      "outputs": [
        {
          "output_type": "stream",
          "name": "stdout",
          "text": [
            "[2, 3]\n"
          ]
        }
      ]
    },
    {
      "cell_type": "markdown",
      "id": "5190e506",
      "metadata": {
        "id": "5190e506"
      },
      "source": [
        "---\n",
        "\n",
        "### Exercise 94:\n",
        "Write a Python function that takes a list of numbers and returns the sum of the squares of all the numbers.\n",
        "\n",
        "```python\n",
        "# Exercise 94\n",
        "```"
      ]
    },
    {
      "cell_type": "code",
      "source": [
        "def sum_square(list1):\n",
        "  sum=0\n",
        "  for l in list1:\n",
        "    sum+=l**2\n",
        "  return sum"
      ],
      "metadata": {
        "id": "1HpTmauKghPF"
      },
      "id": "1HpTmauKghPF",
      "execution_count": null,
      "outputs": []
    },
    {
      "cell_type": "markdown",
      "id": "92934ca4",
      "metadata": {
        "id": "92934ca4"
      },
      "source": [
        "---\n",
        "\n",
        "### Exercise 95:\n",
        "Write a Python program that creates a list of tuples, where each tuple contains a number and its cube for numbers from 1 to 5.\n",
        "\n",
        "```python\n",
        "# Exercise 95\n",
        "```"
      ]
    },
    {
      "cell_type": "code",
      "source": [
        "result = [(x, x**3) for x in range(1, 6)]\n",
        "print(result)"
      ],
      "metadata": {
        "colab": {
          "base_uri": "https://localhost:8080/"
        },
        "id": "unf0F-wBgmyC",
        "outputId": "62aa17f6-3ba0-485f-b9f9-86bcc96c414a"
      },
      "id": "unf0F-wBgmyC",
      "execution_count": null,
      "outputs": [
        {
          "output_type": "stream",
          "name": "stdout",
          "text": [
            "[(1, 1), (2, 8), (3, 27), (4, 64), (5, 125)]\n"
          ]
        }
      ]
    },
    {
      "cell_type": "markdown",
      "id": "ff93d158",
      "metadata": {
        "id": "ff93d158"
      },
      "source": [
        "---\n",
        "\n",
        "### Exercise 96:\n",
        "Write a Python function that returns a list of all prime numbers up to `n`.\n",
        "\n",
        "```python\n",
        "# Exercise 96\n",
        "```"
      ]
    },
    {
      "cell_type": "code",
      "source": [
        "def prime_number(n):\n",
        "  list1=[]\n",
        "  for i in range(2,n+1):\n",
        "    for j in range(2,i):\n",
        "      if i%j==0:\n",
        "        break\n",
        "    else:\n",
        "      list1.append(i)\n",
        "  return list1\n",
        "print(prime_number(30))"
      ],
      "metadata": {
        "colab": {
          "base_uri": "https://localhost:8080/"
        },
        "id": "HRQ3Hr2Ig85p",
        "outputId": "4bd09d38-a84e-4e35-96de-f27519163c61"
      },
      "id": "HRQ3Hr2Ig85p",
      "execution_count": null,
      "outputs": [
        {
          "output_type": "stream",
          "name": "stdout",
          "text": [
            "[2, 3, 5, 7, 11, 13, 17, 19, 23, 29]\n"
          ]
        }
      ]
    },
    {
      "cell_type": "markdown",
      "id": "31813dad",
      "metadata": {
        "id": "31813dad"
      },
      "source": [
        "---\n",
        "\n",
        "### Exercise 97:\n",
        "Write a Python program that finds the common keys between two dictionaries.\n",
        "\n",
        "```python\n",
        "# Exercise 97\n",
        "```"
      ]
    },
    {
      "cell_type": "code",
      "source": [
        "def common_keys(dict1, dict2):\n",
        "    keys = []\n",
        "    for k in dict1:\n",
        "        if k in dict2:\n",
        "            keys.append(k)\n",
        "    return keys\n",
        "\n"
      ],
      "metadata": {
        "id": "dwxVDP3ghogF"
      },
      "id": "dwxVDP3ghogF",
      "execution_count": null,
      "outputs": []
    },
    {
      "cell_type": "markdown",
      "id": "4cfd7358",
      "metadata": {
        "id": "4cfd7358"
      },
      "source": [
        "---\n",
        "\n",
        "### Exercise 98:\n",
        "Write a Python function that takes a list of strings and returns a list of the strings that contain more than 5 characters.\n",
        "\n",
        "```python\n",
        "# Exercise 98\n",
        "```"
      ]
    },
    {
      "cell_type": "code",
      "source": [
        "def string_list(list1):\n",
        "  new_list=list(l for l in list1 if len(l)>5)\n",
        "  return new_list\n",
        "\n",
        "print(string_list(['apple', 'banana', 'cherry', 'date', 'elderberry']))"
      ],
      "metadata": {
        "colab": {
          "base_uri": "https://localhost:8080/"
        },
        "id": "nTNc5yXViO84",
        "outputId": "98af8aab-25b6-4faf-85e2-fac701f1741c"
      },
      "id": "nTNc5yXViO84",
      "execution_count": null,
      "outputs": [
        {
          "output_type": "stream",
          "name": "stdout",
          "text": [
            "['banana', 'cherry', 'elderberry']\n"
          ]
        }
      ]
    },
    {
      "cell_type": "markdown",
      "id": "1fd92704",
      "metadata": {
        "id": "1fd92704"
      },
      "source": [
        "---\n",
        "\n",
        "### Exercise 99:\n",
        "Write a Python program that converts a list of strings into a list of tuples, where each tuple contains the string and its length.\n",
        "\n",
        "```python\n",
        "\n",
        "```"
      ]
    },
    {
      "cell_type": "code",
      "source": [
        "# Exercise 99\n",
        "def strings_tuples(list1):\n",
        "    result = []\n",
        "    for l in list1:\n",
        "        result.append((l, len(l)))\n",
        "    return result\n",
        "\n",
        "\n"
      ],
      "metadata": {
        "id": "1fJK-dSitL0i"
      },
      "id": "1fJK-dSitL0i",
      "execution_count": null,
      "outputs": []
    },
    {
      "cell_type": "markdown",
      "id": "bea983a3",
      "metadata": {
        "id": "bea983a3"
      },
      "source": [
        "---\n",
        "\n",
        "### Exercise 100:\n",
        "Write a Python function that takes a list of dictionaries and returns a new dictionary by summing the values of each key across all dictionaries.\n",
        "\n",
        "```python\n",
        "\n",
        "```\n",
        "\n",
        "---"
      ]
    },
    {
      "cell_type": "code",
      "source": [
        "# Exercise 100\n",
        "def sum_values(dict_list):\n",
        "    result = {}\n",
        "    for d in dict_list:\n",
        "        for k in d:\n",
        "            if k in result:\n",
        "                result[k] += d[k]\n",
        "            else:\n",
        "                result[k] = d[k]\n",
        "    return result"
      ],
      "metadata": {
        "id": "2gWGHeOTvLua"
      },
      "id": "2gWGHeOTvLua",
      "execution_count": null,
      "outputs": []
    },
    {
      "cell_type": "code",
      "source": [],
      "metadata": {
        "id": "jNafZoGRvxTs"
      },
      "id": "jNafZoGRvxTs",
      "execution_count": null,
      "outputs": []
    }
  ],
  "metadata": {
    "colab": {
      "provenance": []
    },
    "kernelspec": {
      "display_name": "Python 3 (ipykernel)",
      "language": "python",
      "name": "python3"
    },
    "language_info": {
      "codemirror_mode": {
        "name": "ipython",
        "version": 3
      },
      "file_extension": ".py",
      "mimetype": "text/x-python",
      "name": "python",
      "nbconvert_exporter": "python",
      "pygments_lexer": "ipython3",
      "version": "3.10.12"
    }
  },
  "nbformat": 4,
  "nbformat_minor": 5
}