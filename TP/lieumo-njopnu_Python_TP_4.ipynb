{
  "cells": [
    {
      "cell_type": "markdown",
      "id": "d68c1dee",
      "metadata": {
        "id": "d68c1dee"
      },
      "source": [
        "# Practical_4: Flow control"
      ]
    },
    {
      "cell_type": "markdown",
      "id": "36a2c27d",
      "metadata": {
        "id": "36a2c27d"
      },
      "source": [
        "---\n",
        "\n",
        "### Exercise 1:\n",
        "Write a Python program that checks if a number is positive or negative.\n",
        "\n",
        "```python\n",
        "# Exercise 1\n",
        "```"
      ]
    },
    {
      "cell_type": "code",
      "source": [
        "def check_positive(n):\n",
        "    if n > 0:\n",
        "        return \"Positive\"\n",
        "    elif n < 0:\n",
        "        return \"Negative\"\n",
        "    else:\n",
        "        return \"Zero\""
      ],
      "metadata": {
        "id": "fCR4TrLaHdQZ"
      },
      "id": "fCR4TrLaHdQZ",
      "execution_count": null,
      "outputs": []
    },
    {
      "cell_type": "markdown",
      "id": "5c401909",
      "metadata": {
        "id": "5c401909"
      },
      "source": [
        "---\n",
        "\n",
        "### Exercise 2:\n",
        "Write a Python function that checks if a string starts with a vowel.\n",
        "\n",
        "```python\n",
        "# Exercise 2\n",
        "```"
      ]
    },
    {
      "cell_type": "code",
      "source": [
        "def check_vowel(s):\n",
        "    vowels = \"aeiouAEIOU\"\n",
        "    if s[0] in vowels:\n",
        "        return True\n",
        "    else:\n",
        "        return False"
      ],
      "metadata": {
        "id": "0nVf6z64H-1S"
      },
      "id": "0nVf6z64H-1S",
      "execution_count": null,
      "outputs": []
    },
    {
      "cell_type": "markdown",
      "id": "b0f7ded2",
      "metadata": {
        "id": "b0f7ded2"
      },
      "source": [
        "---\n",
        "\n",
        "### Exercise 3:\n",
        "Write a Python program that takes a list of integers and prints \"Even\" for each even number and \"Odd\" for each odd number.\n",
        "\n",
        "```python\n",
        "# Exercise 3\n",
        "```"
      ]
    },
    {
      "cell_type": "code",
      "source": [
        "def even_odd(list1):\n",
        "    for i in list1:\n",
        "        if i % 2 == 0:\n",
        "            print(i, \"Even\")\n",
        "        else:\n",
        "            print(i, \"Odd\")"
      ],
      "metadata": {
        "id": "FTH_tRMcINrf"
      },
      "id": "FTH_tRMcINrf",
      "execution_count": null,
      "outputs": []
    },
    {
      "cell_type": "markdown",
      "id": "cb067fe3",
      "metadata": {
        "id": "cb067fe3"
      },
      "source": [
        "---\n",
        "\n",
        "### Exercise 4:\n",
        "Write a Python program that checks if a given year is a leap year.\n",
        "\n",
        "```python\n",
        "# Exercise 4\n",
        "```"
      ]
    },
    {
      "cell_type": "code",
      "source": [
        "def leap_year(year):\n",
        "    if (year % 4 == 0 and year % 100 != 0) or (year % 400 == 0):\n",
        "        return True\n",
        "    else:\n",
        "        return False"
      ],
      "metadata": {
        "id": "T6bWzU5RIadz"
      },
      "id": "T6bWzU5RIadz",
      "execution_count": null,
      "outputs": []
    },
    {
      "cell_type": "markdown",
      "id": "8e7513a6",
      "metadata": {
        "id": "8e7513a6"
      },
      "source": [
        "---\n",
        "\n",
        "### Exercise 5:\n",
        "Write a Python function that checks if a number is divisible by both 3 and 5.\n",
        "\n",
        "```python\n",
        "# Exercise 5\n",
        "```"
      ]
    },
    {
      "cell_type": "code",
      "source": [
        "def divisible(n):\n",
        "    if n % 3 == 0 and n % 5 == 0:\n",
        "        return True\n",
        "    else:\n",
        "        return False"
      ],
      "metadata": {
        "id": "184DnDwNIyMh"
      },
      "id": "184DnDwNIyMh",
      "execution_count": null,
      "outputs": []
    },
    {
      "cell_type": "markdown",
      "id": "4c2a8554",
      "metadata": {
        "id": "4c2a8554"
      },
      "source": [
        "---\n",
        "\n",
        "### Exercise 6:\n",
        "Write a Python program that prints \"Hot\" if the temperature is above 30, \"Warm\" if it is between 15 and 30, and \"Cold\" if it is below 15.\n",
        "\n",
        "```python\n",
        "# Exercise 6\n",
        "```"
      ]
    },
    {
      "cell_type": "code",
      "source": [
        "def temperature_state(temperature):\n",
        "    if temperature > 30:\n",
        "        return \"Hot\"\n",
        "    elif 15 <= temperature <= 30:\n",
        "        return \"Warm\"\n",
        "    else:\n",
        "        return \"Cold\""
      ],
      "metadata": {
        "id": "HCnLnPFqI_-O"
      },
      "id": "HCnLnPFqI_-O",
      "execution_count": null,
      "outputs": []
    },
    {
      "cell_type": "markdown",
      "id": "c8604e4c",
      "metadata": {
        "id": "c8604e4c"
      },
      "source": [
        "---\n",
        "\n",
        "### Exercise 7:\n",
        "Write a Python program that checks if a string contains the letter 'a'.\n",
        "\n",
        "```python\n",
        "# Exercise 7\n",
        "```"
      ]
    },
    {
      "cell_type": "code",
      "source": [
        "def check_a(s):\n",
        "    if 'a' in s:\n",
        "        return True\n",
        "    else:\n",
        "        return False"
      ],
      "metadata": {
        "id": "1wvVRElOJSfc"
      },
      "id": "1wvVRElOJSfc",
      "execution_count": null,
      "outputs": []
    },
    {
      "cell_type": "markdown",
      "id": "d4ac4bb1",
      "metadata": {
        "id": "d4ac4bb1"
      },
      "source": [
        "---\n",
        "\n",
        "### Exercise 8:\n",
        "Write a Python function that checks if two numbers are equal, or which one is larger.\n",
        "\n",
        "```python\n",
        "# Exercise 8\n",
        "```"
      ]
    },
    {
      "cell_type": "code",
      "source": [
        "def compare_numbers(a, b):\n",
        "    if a == b:\n",
        "        return \"Equal\"\n",
        "    elif a > b:\n",
        "        return \"a is larger\"\n",
        "    else:\n",
        "        return \"b is larger\""
      ],
      "metadata": {
        "id": "_Nn_wp0vJYls"
      },
      "id": "_Nn_wp0vJYls",
      "execution_count": null,
      "outputs": []
    },
    {
      "cell_type": "markdown",
      "id": "977a01f2",
      "metadata": {
        "id": "977a01f2"
      },
      "source": [
        "---\n",
        "\n",
        "### Exercise 9:\n",
        "Write a Python program that checks if a list is empty.\n",
        "\n",
        "```python\n",
        "# Exercise 9\n",
        "```"
      ]
    },
    {
      "cell_type": "code",
      "source": [
        "def list_state(list1):\n",
        "    if len(list1) == 0:\n",
        "        return \"Empty\"\n",
        "    else:\n",
        "        return \"Not Empty\""
      ],
      "metadata": {
        "id": "FETh16wVJkP7"
      },
      "id": "FETh16wVJkP7",
      "execution_count": null,
      "outputs": []
    },
    {
      "cell_type": "markdown",
      "id": "29ac4a8f",
      "metadata": {
        "id": "29ac4a8f"
      },
      "source": [
        "---\n",
        "\n",
        "### Exercise 10:\n",
        "Write a Python function that takes two strings and checks if they are anagrams.\n",
        "\n",
        "```python\n",
        "# Exercise 10\n",
        "```"
      ]
    },
    {
      "cell_type": "code",
      "source": [
        "def anagram(s1, s2):\n",
        "    s1 = s1.replace(\" \", \"\").lower()\n",
        "    s2 = s2.replace(\" \", \"\").lower()\n",
        "    if sorted(s1) == sorted(s2):\n",
        "        return True\n",
        "    else:\n",
        "        return False"
      ],
      "metadata": {
        "id": "t-uYDIvSJuL6"
      },
      "id": "t-uYDIvSJuL6",
      "execution_count": null,
      "outputs": []
    },
    {
      "cell_type": "markdown",
      "id": "27f3ae2a",
      "metadata": {
        "id": "27f3ae2a"
      },
      "source": [
        "---\n",
        "\n",
        "### Exercise 11:\n",
        "Write a Python program that checks if a number is prime.\n",
        "\n",
        "```python\n",
        "# Exercise 11\n",
        "```"
      ]
    },
    {
      "cell_type": "code",
      "source": [
        "def prime_number(n):\n",
        "    if n <= 1:\n",
        "        return False\n",
        "    for i in range(2, n):\n",
        "        if n % i == 0:\n",
        "            return False\n",
        "    return True"
      ],
      "metadata": {
        "id": "SgB__jiBK5MX"
      },
      "id": "SgB__jiBK5MX",
      "execution_count": null,
      "outputs": []
    },
    {
      "cell_type": "markdown",
      "id": "481ba0af",
      "metadata": {
        "id": "481ba0af"
      },
      "source": [
        "---\n",
        "\n",
        "### Exercise 12:\n",
        "Write a Python program that checks if a list of numbers is sorted in ascending order.\n",
        "\n",
        "```python\n",
        "# Exercise 12\n",
        "```"
      ]
    },
    {
      "cell_type": "code",
      "source": [
        "def sorted_list(list1):\n",
        "    for i in range(len(list1) - 1):\n",
        "        if list1[i] > list1[i + 1]:\n",
        "            return False\n",
        "    return True"
      ],
      "metadata": {
        "id": "SajCl-AILJXv"
      },
      "id": "SajCl-AILJXv",
      "execution_count": null,
      "outputs": []
    },
    {
      "cell_type": "markdown",
      "id": "90a54007",
      "metadata": {
        "id": "90a54007"
      },
      "source": [
        "---\n",
        "\n",
        "### Exercise 13:\n",
        "Write a Python function that takes a character and checks if it is a digit.\n",
        "\n",
        "```python\n",
        "# Exercise 13\n",
        "```"
      ]
    },
    {
      "cell_type": "code",
      "source": [
        "def digit(char):\n",
        "  if char in \"0123456789\":\n",
        "    return True\n",
        "  else:\n",
        "    return False"
      ],
      "metadata": {
        "id": "uu9Ot3y8Ldq3"
      },
      "id": "uu9Ot3y8Ldq3",
      "execution_count": null,
      "outputs": []
    },
    {
      "cell_type": "markdown",
      "id": "8bd0fde4",
      "metadata": {
        "id": "8bd0fde4"
      },
      "source": [
        "---\n",
        "\n",
        "### Exercise 14:\n",
        "Write a Python function that checks if a string contains only uppercase letters.\n",
        "\n",
        "```python\n",
        "# Exercise 14\n",
        "```"
      ]
    },
    {
      "cell_type": "code",
      "source": [
        "def uppercase(my_string):\n",
        "    if my_string.isupper():\n",
        "        return True\n",
        "    else:\n",
        "        return False"
      ],
      "metadata": {
        "id": "xNcocFIhL8tw"
      },
      "id": "xNcocFIhL8tw",
      "execution_count": null,
      "outputs": []
    },
    {
      "cell_type": "markdown",
      "id": "5e7ffd0a",
      "metadata": {
        "id": "5e7ffd0a"
      },
      "source": [
        "---\n",
        "\n",
        "### Exercise 15:\n",
        "Write a Python program that checks if a number is a multiple of 10.\n",
        "\n",
        "```python\n",
        "# Exercise 15\n",
        "```"
      ]
    },
    {
      "cell_type": "code",
      "source": [
        "def ten_multiple(n):\n",
        "  if n % 10 == 0:\n",
        "    return True\n",
        "  else:\n",
        "    return False"
      ],
      "metadata": {
        "id": "ZAM05LzxMgwt"
      },
      "id": "ZAM05LzxMgwt",
      "execution_count": null,
      "outputs": []
    },
    {
      "cell_type": "markdown",
      "id": "c57abd50",
      "metadata": {
        "id": "c57abd50"
      },
      "source": [
        "---\n",
        "\n",
        "### Exercise 16:\n",
        "Write a Python function that checks if a list contains any duplicates.\n",
        "\n",
        "```python\n",
        "# Exercise 16\n",
        "```"
      ]
    },
    {
      "cell_type": "code",
      "source": [
        "def check_duplicates(list1):\n",
        "    for i in range(len(list1)):\n",
        "        for j in range(i + 1, len(list1)):\n",
        "            if list1[i] == list1[j]:\n",
        "                return True\n",
        "    return False"
      ],
      "metadata": {
        "id": "V5iKo1vRMylM"
      },
      "id": "V5iKo1vRMylM",
      "execution_count": null,
      "outputs": []
    },
    {
      "cell_type": "markdown",
      "id": "ac7f12f1",
      "metadata": {
        "id": "ac7f12f1"
      },
      "source": [
        "---\n",
        "\n",
        "### Exercise 17:\n",
        "Write a Python program that prints \"Teenager\" if the age is between 13 and 19, otherwise it prints \"Not a teenager.\"\n",
        "\n",
        "```python\n",
        "# Exercise 17\n",
        "```"
      ]
    },
    {
      "cell_type": "code",
      "source": [
        "def teenager(age):\n",
        "    if age<=19 and age>=13:\n",
        "        return \"Teenager\"\n",
        "    else:\n",
        "        return \"Not a teenager\""
      ],
      "metadata": {
        "id": "PgKLCCZPNG0W"
      },
      "id": "PgKLCCZPNG0W",
      "execution_count": null,
      "outputs": []
    },
    {
      "cell_type": "markdown",
      "id": "80b1be8f",
      "metadata": {
        "id": "80b1be8f"
      },
      "source": [
        "---\n",
        "\n",
        "### Exercise 18:\n",
        "Write a Python function that checks if a list contains an element greater than 100.\n",
        "\n",
        "```python\n",
        "# Exercise 18\n",
        "```"
      ]
    },
    {
      "cell_type": "code",
      "source": [
        "def greater_than_100(list1):\n",
        "    for i in list1:\n",
        "        if i > 100:\n",
        "            return True\n",
        "    return False"
      ],
      "metadata": {
        "id": "UI2jRyyeNeZC"
      },
      "id": "UI2jRyyeNeZC",
      "execution_count": null,
      "outputs": []
    },
    {
      "cell_type": "markdown",
      "id": "d42400e4",
      "metadata": {
        "id": "d42400e4"
      },
      "source": [
        "---\n",
        "\n",
        "### Exercise 19:\n",
        "Write a Python program that checks if a number is even or odd.\n",
        "\n",
        "```python\n",
        "# Exercise 19\n",
        "```"
      ]
    },
    {
      "cell_type": "code",
      "source": [
        "def even_odd(n):\n",
        "    if n % 2 == 0:\n",
        "        return \"Even\"\n",
        "    else:\n",
        "        return \"Odd\""
      ],
      "metadata": {
        "id": "Wk8SHt-DNplx"
      },
      "id": "Wk8SHt-DNplx",
      "execution_count": null,
      "outputs": []
    },
    {
      "cell_type": "markdown",
      "id": "5362e354",
      "metadata": {
        "id": "5362e354"
      },
      "source": [
        "---\n",
        "\n",
        "### Exercise 20:\n",
        "Write a Python function that checks if a string ends with a punctuation mark.\n",
        "\n",
        "```python\n",
        "# Exercise 20\n",
        "```"
      ]
    },
    {
      "cell_type": "code",
      "source": [
        "def punctuation(s):\n",
        "    punctuation_marks = \".!?,\"\n",
        "    if s[-1] in punctuation_marks:\n",
        "        return True\n",
        "    else:\n",
        "        return False"
      ],
      "metadata": {
        "id": "U3g7vtysNtZR"
      },
      "id": "U3g7vtysNtZR",
      "execution_count": null,
      "outputs": []
    },
    {
      "cell_type": "markdown",
      "id": "7cb66637",
      "metadata": {
        "id": "7cb66637"
      },
      "source": [
        "---\n",
        "\n",
        "### Exercise 21:\n",
        "Write a Python program that prints \"Yes\" if the number is between 1 and 100, otherwise it prints \"No.\"\n",
        "\n",
        "```python\n",
        "# Exercise 21\n",
        "```"
      ]
    },
    {
      "cell_type": "code",
      "source": [],
      "metadata": {
        "id": "U1ebVhmdOM_1"
      },
      "id": "U1ebVhmdOM_1",
      "execution_count": null,
      "outputs": []
    },
    {
      "cell_type": "code",
      "source": [
        "def between_1_100(n):\n",
        "  if n>=1 and n<=100:\n",
        "    return \"Yes\"\n",
        "  else:\n",
        "    return \"No\""
      ],
      "metadata": {
        "id": "2xcIx8-LN0UT"
      },
      "id": "2xcIx8-LN0UT",
      "execution_count": null,
      "outputs": []
    },
    {
      "cell_type": "markdown",
      "id": "1ae91898",
      "metadata": {
        "id": "1ae91898"
      },
      "source": [
        "---\n",
        "\n",
        "### Exercise 22:\n",
        "Write a Python program that checks if two strings have the same length.\n",
        "\n",
        "```python\n",
        "# Exercise 22\n",
        "```"
      ]
    },
    {
      "cell_type": "code",
      "source": [
        "def same_length(s1, s2):\n",
        "    if len(s1) == len(s2):\n",
        "        return True\n",
        "    else:\n",
        "        return False"
      ],
      "metadata": {
        "id": "VpiAXSZWON40"
      },
      "id": "VpiAXSZWON40",
      "execution_count": null,
      "outputs": []
    },
    {
      "cell_type": "markdown",
      "id": "7e2f8cc5",
      "metadata": {
        "id": "7e2f8cc5"
      },
      "source": [
        "---\n",
        "\n",
        "### Exercise 23:\n",
        "Write a Python function that checks if a number is greater than its reverse.\n",
        "\n",
        "```python\n",
        "# Exercise 23\n",
        "```"
      ]
    },
    {
      "cell_type": "code",
      "source": [
        "def compare_reverse(n):\n",
        "    if n > int(str(n)[::-1]):\n",
        "        return True\n",
        "    else:\n",
        "        return False"
      ],
      "metadata": {
        "id": "R2mk8Gi8OWJa"
      },
      "id": "R2mk8Gi8OWJa",
      "execution_count": null,
      "outputs": []
    },
    {
      "cell_type": "markdown",
      "id": "5ea4fe8d",
      "metadata": {
        "id": "5ea4fe8d"
      },
      "source": [
        "---\n",
        "\n",
        "### Exercise 24:\n",
        "Write a Python program that checks if a password contains both letters and numbers.\n",
        "\n",
        "```python\n",
        "# Exercise 24\n",
        "```"
      ]
    },
    {
      "cell_type": "code",
      "source": [
        "def check_password(password):\n",
        "  letters = False\n",
        "  numbers = False\n",
        "  for i in password:\n",
        "    if i.isalpha():\n",
        "      letters = True\n",
        "    elif i.isdigit():\n",
        "      numbers = True\n",
        "  if letters and numbers:\n",
        "    return True\n",
        "  else:\n",
        "    return False"
      ],
      "metadata": {
        "id": "BGAb-r8tOiWN"
      },
      "id": "BGAb-r8tOiWN",
      "execution_count": null,
      "outputs": []
    },
    {
      "cell_type": "markdown",
      "id": "49cb11b0",
      "metadata": {
        "id": "49cb11b0"
      },
      "source": [
        "---\n",
        "\n",
        "### Exercise 25:\n",
        "Write a Python program that checks if a number is between two given numbers.\n",
        "\n",
        "```python\n",
        "# Exercise 25\n",
        "```"
      ]
    },
    {
      "cell_type": "code",
      "source": [
        "def interval(n, a, b):\n",
        "    if a<=n and n<=b:\n",
        "        return True\n",
        "    elif b<=n and n<=a:\n",
        "        return True\n",
        "    else:\n",
        "        return False"
      ],
      "metadata": {
        "id": "YeWNptJqPCNm"
      },
      "id": "YeWNptJqPCNm",
      "execution_count": null,
      "outputs": []
    },
    {
      "cell_type": "markdown",
      "id": "20417876",
      "metadata": {
        "id": "20417876"
      },
      "source": [
        "---\n",
        "\n",
        "### Exercise 26:\n",
        "Write a Python function that checks if all characters in a string are unique.\n",
        "\n",
        "```python\n",
        "# Exercise 26\n",
        "```"
      ]
    },
    {
      "cell_type": "code",
      "source": [
        "def unique_characters(s):\n",
        "    for i in range(len(s)):\n",
        "        for j in range(i + 1, len(s)):\n",
        "            if s[i] == s[j]:\n",
        "                return False\n",
        "    return True"
      ],
      "metadata": {
        "id": "UWCU0rTBPhAW"
      },
      "id": "UWCU0rTBPhAW",
      "execution_count": null,
      "outputs": []
    },
    {
      "cell_type": "markdown",
      "id": "a5387e95",
      "metadata": {
        "id": "a5387e95"
      },
      "source": [
        "---\n",
        "\n",
        "### Exercise 27:\n",
        "Write a Python program that checks if a number is a perfect square.\n",
        "\n",
        "```python\n",
        "# Exercise 27\n",
        "```"
      ]
    },
    {
      "cell_type": "code",
      "source": [
        "def perfect_square(n):\n",
        "    for i in range(1, n):\n",
        "        if i * i == n:\n",
        "            return True\n",
        "    return False"
      ],
      "metadata": {
        "id": "g1JsqGDnxgmn"
      },
      "id": "g1JsqGDnxgmn",
      "execution_count": null,
      "outputs": []
    },
    {
      "cell_type": "markdown",
      "id": "7fcd4d92",
      "metadata": {
        "id": "7fcd4d92"
      },
      "source": [
        "---\n",
        "\n",
        "### Exercise 28:\n",
        "Write a Python function that checks if a word is a palindrome.\n",
        "\n",
        "```python\n",
        "# Exercise 28\n",
        "```"
      ]
    },
    {
      "cell_type": "code",
      "source": [
        "def palindrome(word):\n",
        "    if word == word[::-1]:\n",
        "        return True\n",
        "    else:\n",
        "        return False"
      ],
      "metadata": {
        "id": "a9QkC6uCyFJe"
      },
      "id": "a9QkC6uCyFJe",
      "execution_count": null,
      "outputs": []
    },
    {
      "cell_type": "markdown",
      "id": "53acb826",
      "metadata": {
        "id": "53acb826"
      },
      "source": [
        "---\n",
        "\n",
        "### Exercise 29:\n",
        "Write a Python program that prints \"Fizz\" if a number is divisible by 3, \"Buzz\" if it is divisible by 5, and \"FizzBuzz\" if divisible by both.\n",
        "\n",
        "```python\n",
        "# Exercise 29\n",
        "```"
      ]
    },
    {
      "cell_type": "code",
      "source": [
        "def divisible(n):\n",
        "  if n%3==0:\n",
        "    print (\"Fizz\")\n",
        "  elif n%5==0:\n",
        "    print (\"Buzz\")\n",
        "  elif n%3==0 and n%5==0:\n",
        "    print (\"FizzBuzz\")\n",
        "  else:\n",
        "    print(\"not divisible by 3 and 5\")"
      ],
      "metadata": {
        "id": "mwN9ZZ0VyvKo"
      },
      "id": "mwN9ZZ0VyvKo",
      "execution_count": null,
      "outputs": []
    },
    {
      "cell_type": "markdown",
      "id": "0ad8f25c",
      "metadata": {
        "id": "0ad8f25c"
      },
      "source": [
        "---\n",
        "\n",
        "### Exercise 30:\n",
        "Write a Python program that checks if the sum of the digits of a number is even.\n",
        "\n",
        "```python\n",
        "# Exercise 30\n",
        "```"
      ]
    },
    {
      "cell_type": "code",
      "source": [
        "def sum_digits_even(n):\n",
        "    sum = 0\n",
        "    n = str(n)\n",
        "    for i in n:\n",
        "        sum += int(i)\n",
        "    if sum % 2 == 0:\n",
        "        return True\n",
        "    else:\n",
        "        return False"
      ],
      "metadata": {
        "id": "Ni-XTm9rzglP"
      },
      "id": "Ni-XTm9rzglP",
      "execution_count": null,
      "outputs": []
    },
    {
      "cell_type": "markdown",
      "id": "dbd2e3b1",
      "metadata": {
        "id": "dbd2e3b1"
      },
      "source": [
        "---\n",
        "\n",
        "### Exercise 31:\n",
        "Write a Python program that checks if a string is a valid email address.\n",
        "\n",
        "```python\n",
        "# Exercise 31\n",
        "```"
      ]
    },
    {
      "cell_type": "code",
      "source": [
        "def valid_email(email):\n",
        "    if \"@\" in email and \".\" in email:\n",
        "        return True\n",
        "    else:\n",
        "        return False"
      ],
      "metadata": {
        "id": "cVAq31wYz8YW"
      },
      "id": "cVAq31wYz8YW",
      "execution_count": null,
      "outputs": []
    },
    {
      "cell_type": "markdown",
      "id": "bdee43d4",
      "metadata": {
        "id": "bdee43d4"
      },
      "source": [
        "---\n",
        "\n",
        "### Exercise 32:\n",
        "Write a Python function that checks if a number is within 10 of 100 or 200.\n",
        "\n",
        "```python\n",
        "# Exercise 32\n",
        "```"
      ]
    },
    {
      "cell_type": "code",
      "source": [
        "def interval(n):\n",
        "  if n>=10 and n<=100:\n",
        "    print(\"[10-100]\")\n",
        "  elif n>=10 and n<=200:\n",
        "    print(\"[10-200]\")\n",
        "  else:\n",
        "    print(\"not in interval\")"
      ],
      "metadata": {
        "id": "4d3xt3tJ1yXe"
      },
      "id": "4d3xt3tJ1yXe",
      "execution_count": null,
      "outputs": []
    },
    {
      "cell_type": "markdown",
      "id": "452cc7f4",
      "metadata": {
        "id": "452cc7f4"
      },
      "source": [
        "---\n",
        "\n",
        "### Exercise 33:\n",
        "Write a Python program that checks if a given string is a valid URL.\n",
        "\n",
        "```python\n",
        "# Exercise 33\n",
        "```"
      ]
    },
    {
      "cell_type": "code",
      "source": [
        "def valid_url(url):\n",
        "    if url.startswith(\"http://\"):\n",
        "        link = url[7:]  # Supprime \"http://\"\n",
        "    elif url.startswith(\"https://\"):\n",
        "        link = url[8:]  # Supprime \"https://\"\n",
        "    else:\n",
        "        return False\n",
        "\n",
        "    if not base:\n",
        "        return False\n",
        "\n",
        "    if '.' not in base:\n",
        "        return False\n",
        "\n",
        "    # Vérifie que le point n'est pas au début ou à la fin\n",
        "    if link.startswith('.') or base.endswith('.'):\n",
        "        return False\n",
        "\n",
        "    # Vérifie qu'il y a au moins un caractère avant et après le point\n",
        "    parts = link.split('.')\n",
        "    for part in parts:\n",
        "        if not part:\n",
        "            return False\n",
        "\n",
        "    return True\n",
        "\n",
        "\n"
      ],
      "metadata": {
        "id": "cQFDrFC33sex"
      },
      "id": "cQFDrFC33sex",
      "execution_count": null,
      "outputs": []
    },
    {
      "cell_type": "markdown",
      "id": "d787752d",
      "metadata": {
        "id": "d787752d"
      },
      "source": [
        "---\n",
        "\n",
        "### Exercise 34:\n",
        "Write a Python program that checks if a list contains all even numbers.\n",
        "\n",
        "```python\n",
        "# Exercise 34\n",
        "```"
      ]
    },
    {
      "cell_type": "code",
      "source": [
        "def even_numbers(list1):\n",
        "    for i in list1:\n",
        "        if i % 2 != 0:\n",
        "            return False\n",
        "    return True"
      ],
      "metadata": {
        "id": "IETCHbVLJetd"
      },
      "id": "IETCHbVLJetd",
      "execution_count": null,
      "outputs": []
    },
    {
      "cell_type": "markdown",
      "id": "c346285b",
      "metadata": {
        "id": "c346285b"
      },
      "source": [
        "---\n",
        "\n",
        "### Exercise 35:\n",
        "Write a Python program that checks if a word is longer than a given length.\n",
        "\n",
        "```python\n",
        "# Exercise 35\n",
        "```"
      ]
    },
    {
      "cell_type": "code",
      "source": [
        "def length_word(word, length):\n",
        "    if len(word) > length:\n",
        "        return True\n",
        "    else:\n",
        "        return False"
      ],
      "metadata": {
        "id": "ATnihkPtJku8"
      },
      "id": "ATnihkPtJku8",
      "execution_count": null,
      "outputs": []
    },
    {
      "cell_type": "markdown",
      "id": "01fce940",
      "metadata": {
        "id": "01fce940"
      },
      "source": [
        "---\n",
        "\n",
        "### Exercise 36:\n",
        "Write a Python program that checks if a list contains only positive numbers.\n",
        "\n",
        "```python\n",
        "# Exercise 36\n",
        "```"
      ]
    },
    {
      "cell_type": "code",
      "source": [
        "def positive_numbers(list1):\n",
        "    for i in list1:\n",
        "        if i < 0:\n",
        "            return False\n",
        "    return True"
      ],
      "metadata": {
        "id": "HBk5LD6aJurd"
      },
      "id": "HBk5LD6aJurd",
      "execution_count": null,
      "outputs": []
    },
    {
      "cell_type": "markdown",
      "id": "085067e7",
      "metadata": {
        "id": "085067e7"
      },
      "source": [
        "---\n",
        "\n",
        "### Exercise 37:\n",
        "Write a Python function that checks if a year is a century year (i.e., divisible by 100).\n",
        "\n",
        "```python\n",
        "# Exercise 37\n",
        "```"
      ]
    },
    {
      "cell_type": "code",
      "source": [
        "def century_year(year):\n",
        "    if year % 100 == 0:\n",
        "        return True\n",
        "    else:\n",
        "        return False"
      ],
      "metadata": {
        "id": "ZVYoBPZLJ03n"
      },
      "id": "ZVYoBPZLJ03n",
      "execution_count": null,
      "outputs": []
    },
    {
      "cell_type": "markdown",
      "id": "b18f8826",
      "metadata": {
        "id": "b18f8826"
      },
      "source": [
        "---\n",
        "\n",
        "### Exercise 38:\n",
        "Write a Python program that checks if the sum of a list of numbers is greater than 100.\n",
        "\n",
        "```python\n",
        "# Exercise 38\n",
        "```"
      ]
    },
    {
      "cell_type": "code",
      "source": [
        "def greather_100(list1):\n",
        "    sum = 0\n",
        "    for i in list1:\n",
        "        sum += i\n",
        "    if sum > 100:\n",
        "        return True\n",
        "    else:\n",
        "        return False"
      ],
      "metadata": {
        "id": "OcQ_DZJ8J5h0"
      },
      "id": "OcQ_DZJ8J5h0",
      "execution_count": null,
      "outputs": []
    },
    {
      "cell_type": "markdown",
      "id": "6d1dc590",
      "metadata": {
        "id": "6d1dc590"
      },
      "source": [
        "---\n",
        "\n",
        "### Exercise 39:\n",
        "Write a Python function that checks if a given word is a substring of another string.\n",
        "\n",
        "```python\n",
        "# Exercise 39\n",
        "```"
      ]
    },
    {
      "cell_type": "code",
      "source": [
        "def substring(word, string):\n",
        "    if word in string:\n",
        "        return True\n",
        "    else:\n",
        "        return False"
      ],
      "metadata": {
        "id": "7521ocO_KhKk"
      },
      "id": "7521ocO_KhKk",
      "execution_count": null,
      "outputs": []
    },
    {
      "cell_type": "markdown",
      "id": "0a98f85e",
      "metadata": {
        "id": "0a98f85e"
      },
      "source": [
        "---\n",
        "\n",
        "### Exercise 40:\n",
        "Write a Python program that checks if a number is a power of 2.\n",
        "\n",
        "```python\n",
        "# Exercise 40\n",
        "```"
      ]
    },
    {
      "cell_type": "code",
      "source": [
        "def power_of_2(n):\n",
        "    if n == 0:\n",
        "        return False\n",
        "    while n > 1:\n",
        "        if n % 2 != 0:\n",
        "            return False\n",
        "        n=n/2\n",
        "    return True\n"
      ],
      "metadata": {
        "id": "NKougoJuKoRs"
      },
      "id": "NKougoJuKoRs",
      "execution_count": null,
      "outputs": []
    },
    {
      "cell_type": "markdown",
      "id": "34fb36c0",
      "metadata": {
        "id": "34fb36c0"
      },
      "source": [
        "---\n",
        "\n",
        "### Exercise 41:\n",
        "Write a Python function that checks if a string contains no spaces.\n",
        "\n",
        "```python\n",
        "# Exercise 41\n",
        "```"
      ]
    },
    {
      "cell_type": "code",
      "source": [
        "def check_spaces(s):\n",
        "    if \" \" in s:\n",
        "        return False\n",
        "    else:\n",
        "        return True"
      ],
      "metadata": {
        "id": "lEnvKcXlNgai"
      },
      "id": "lEnvKcXlNgai",
      "execution_count": null,
      "outputs": []
    },
    {
      "cell_type": "markdown",
      "id": "83d0a9f0",
      "metadata": {
        "id": "83d0a9f0"
      },
      "source": [
        "---\n",
        "\n",
        "### Exercise 42:\n",
        "Write a Python program that prints \"Yes\" if a number is divisible by both 2 and 3, otherwise it prints \"No.\"\n",
        "\n",
        "```python\n",
        "# Exercise 42\n",
        "```"
      ]
    },
    {
      "cell_type": "code",
      "source": [
        "def divisible_2_3(n):\n",
        "    if n % 2 == 0 and n % 3 == 0:\n",
        "        return \"Yes\"\n",
        "    else:\n",
        "        return \"No\""
      ],
      "metadata": {
        "id": "aTe2lCbUUnkx"
      },
      "id": "aTe2lCbUUnkx",
      "execution_count": null,
      "outputs": []
    },
    {
      "cell_type": "markdown",
      "id": "4e77a534",
      "metadata": {
        "id": "4e77a534"
      },
      "source": [
        "---\n",
        "\n",
        "### Exercise 43:\n",
        "Write a Python program that checks if a number is a palindrome.\n",
        "\n",
        "```python\n",
        "# Exercise 43\n",
        "```"
      ]
    },
    {
      "cell_type": "code",
      "source": [
        "def palindrome_number(n):\n",
        "    if str(n) == str(n)[::-1]:\n",
        "        return True\n",
        "    else:\n",
        "        return False"
      ],
      "metadata": {
        "id": "UyfpeOhtUwqT"
      },
      "id": "UyfpeOhtUwqT",
      "execution_count": null,
      "outputs": []
    },
    {
      "cell_type": "markdown",
      "id": "32a4dcfa",
      "metadata": {
        "id": "32a4dcfa"
      },
      "source": [
        "---\n",
        "\n",
        "### Exercise 44:\n",
        "Write a Python function that checks if a string is made of only lowercase letters.\n",
        "\n",
        "```python\n",
        "# Exercise 44\n",
        "```"
      ]
    },
    {
      "cell_type": "code",
      "source": [
        "def check_lowercase(s):\n",
        "    if s.islower():\n",
        "        return True\n",
        "    else:\n",
        "        return False"
      ],
      "metadata": {
        "id": "28VUQp_hU27q"
      },
      "id": "28VUQp_hU27q",
      "execution_count": null,
      "outputs": []
    },
    {
      "cell_type": "markdown",
      "id": "ccd59c6c",
      "metadata": {
        "id": "ccd59c6c"
      },
      "source": [
        "---\n",
        "\n",
        "### Exercise 45:\n",
        "Write a Python program that checks if a string starts with a specific prefix.\n",
        "\n",
        "```python\n",
        "# Exercise 45\n",
        "```"
      ]
    },
    {
      "cell_type": "code",
      "source": [
        "def prefix(s, prefix):\n",
        "    if s.startswith(prefix):\n",
        "        return True\n",
        "    else:\n",
        "        return False"
      ],
      "metadata": {
        "id": "xwtWZ-1IVHkY"
      },
      "id": "xwtWZ-1IVHkY",
      "execution_count": null,
      "outputs": []
    },
    {
      "cell_type": "markdown",
      "id": "adc0f365",
      "metadata": {
        "id": "adc0f365"
      },
      "source": [
        "---\n",
        "\n",
        "### Exercise 46:\n",
        "Write a Python function that checks if a number is divisible by any number in a given list.\n",
        "\n",
        "```python\n",
        "# Exercise 46\n",
        "```"
      ]
    },
    {
      "cell_type": "code",
      "source": [
        "def divisible(n, list1):\n",
        "  divisor=list(i for i in list1 if n%i==0)\n",
        "  return divisor\n"
      ],
      "metadata": {
        "id": "wyNFi4L_VXqe"
      },
      "id": "wyNFi4L_VXqe",
      "execution_count": null,
      "outputs": []
    },
    {
      "cell_type": "markdown",
      "id": "7099266d",
      "metadata": {
        "id": "7099266d"
      },
      "source": [
        "---\n",
        "\n",
        "### Exercise 47:\n",
        "Write a Python program that prints \"Yes\" if a string has more than one occurrence of the same letter.\n",
        "\n",
        "```python\n",
        "# Exercise 47\n",
        "```"
      ]
    },
    {
      "cell_type": "code",
      "source": [
        "def check_duplicates(s):\n",
        "    for i in s:\n",
        "        if s.count(i) > 1:\n",
        "            return \"Yes\"\n",
        "    return \"No\""
      ],
      "metadata": {
        "id": "je9lMHOnWyng"
      },
      "id": "je9lMHOnWyng",
      "execution_count": null,
      "outputs": []
    },
    {
      "cell_type": "markdown",
      "id": "de5ba5aa",
      "metadata": {
        "id": "de5ba5aa"
      },
      "source": [
        "---\n",
        "\n",
        "### Exercise 48:\n",
        "Write a Python function that checks if a number is prime by dividing it by numbers up to its square root.\n",
        "\n",
        "```python\n",
        "# Exercise 48\n",
        "```"
      ]
    },
    {
      "cell_type": "code",
      "source": [
        "def prime_number(n):\n",
        "    if n < 2:\n",
        "        return False\n",
        "    for i in range(2, int(n**0.5) + 1):\n",
        "        if n % i == 0:\n",
        "            return False\n",
        "    return True"
      ],
      "metadata": {
        "id": "_WRmd-wbXFS4"
      },
      "id": "_WRmd-wbXFS4",
      "execution_count": null,
      "outputs": []
    },
    {
      "cell_type": "markdown",
      "id": "6de7032f",
      "metadata": {
        "id": "6de7032f"
      },
      "source": [
        "---\n",
        "\n",
        "### Exercise 49:\n",
        "Write a Python program that checks if a number is within 1 of a multiple of 10.\n",
        "\n",
        "```python\n",
        "# Exercise 49\n",
        "```"
      ]
    },
    {
      "cell_type": "code",
      "source": [
        "def multiple_10(n):\n",
        "    if str(n)[-1]==\"9\" or str(n)[-1]==\"1\":\n",
        "        return True\n",
        "    else:\n",
        "        return False\n",
        "\n",
        "print(multiple_10(11209))"
      ],
      "metadata": {
        "colab": {
          "base_uri": "https://localhost:8080/"
        },
        "id": "pUkO-Z6sXPbD",
        "outputId": "75ad7343-b674-4b27-d23a-b2488ee34e05"
      },
      "id": "pUkO-Z6sXPbD",
      "execution_count": null,
      "outputs": [
        {
          "output_type": "stream",
          "name": "stdout",
          "text": [
            "True\n"
          ]
        }
      ]
    },
    {
      "cell_type": "markdown",
      "id": "bea983a3",
      "metadata": {
        "id": "bea983a3"
      },
      "source": [
        "---\n",
        "\n",
        "### Exercise 50:\n",
        "Write a Python program that prints \"In range\" if a number is between 10 and 20 (inclusive), otherwise it prints \"Out of range.\"\n",
        "\n",
        "```python\n",
        "# Exercise 50\n",
        "```\n",
        "\n",
        "---"
      ]
    },
    {
      "cell_type": "code",
      "source": [
        "def between_10_20(n):\n",
        "  if n>=10 and n<=20:\n",
        "    print(\"In range\")\n",
        "  else:\n",
        "    print(\"Out of range\")"
      ],
      "metadata": {
        "id": "zHhATmiOY637"
      },
      "id": "zHhATmiOY637",
      "execution_count": null,
      "outputs": []
    }
  ],
  "metadata": {
    "colab": {
      "provenance": []
    },
    "kernelspec": {
      "display_name": "Python 3 (ipykernel)",
      "language": "python",
      "name": "python3"
    },
    "language_info": {
      "codemirror_mode": {
        "name": "ipython",
        "version": 3
      },
      "file_extension": ".py",
      "mimetype": "text/x-python",
      "name": "python",
      "nbconvert_exporter": "python",
      "pygments_lexer": "ipython3",
      "version": "3.9.12"
    }
  },
  "nbformat": 4,
  "nbformat_minor": 5
}