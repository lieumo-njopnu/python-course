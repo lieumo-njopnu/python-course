{
 "cells": [
  {
   "cell_type": "code",
   "execution_count": 2,
   "id": "7c31470d",
   "metadata": {},
   "outputs": [
    {
     "name": "stdout",
     "output_type": "stream",
     "text": [
      "Hello i am fine \n",
      "And you\n"
     ]
    }
   ],
   "source": [
    "print('Hello i am fine \\nAnd you')"
   ]
  },
  {
   "cell_type": "code",
   "execution_count": 5,
   "id": "0f26d4c2",
   "metadata": {},
   "outputs": [
    {
     "name": "stdout",
     "output_type": "stream",
     "text": [
      "sdtw              tw\n"
     ]
    }
   ],
   "source": [
    "print('sdtw              tw'.strip())"
   ]
  },
  {
   "cell_type": "code",
   "execution_count": 7,
   "id": "893c4bec",
   "metadata": {},
   "outputs": [
    {
     "name": "stdout",
     "output_type": "stream",
     "text": [
      "This string has multiple spaces.\n"
     ]
    }
   ],
   "source": [
    "text = \"This            string  has   multiple   spaces.\"\n",
    "words = text.split()  # Splits by any whitespace, removing empty strings\n",
    "cleaned_text = \" \".join(words)\n",
    "print(cleaned_text)"
   ]
  },
  {
   "cell_type": "code",
   "execution_count": 8,
   "id": "06281871",
   "metadata": {},
   "outputs": [
    {
     "name": "stdout",
     "output_type": "stream",
     "text": [
      "Hello,world!How are you?\n",
      "This is a test.Another test.\n"
     ]
    }
   ],
   "source": [
    "def remove_extra_spaces_around_punctuation(text):\n",
    "    punctuation = \"!\\\"#$%&'()*+,-./:;<=>?@[\\\\]^_`{|}~\"\n",
    "    result = []\n",
    "    i = 0\n",
    "    while i < len(text):\n",
    "        char = text[i]\n",
    "        result.append(char)\n",
    "        if char in punctuation:\n",
    "            # Remove leading spaces if any\n",
    "            while len(result) > 1 and result[-2] == ' ':\n",
    "                result.pop(-2)\n",
    "            # Remove trailing spaces\n",
    "            j = i + 1\n",
    "            while j < len(text) and text[j] == ' ':\n",
    "                j += 1\n",
    "            i = j - 1 # Adjust i to skip the removed spaces\n",
    "        i += 1\n",
    "    return \"\".join(result)\n",
    "\n",
    "# Example usage\n",
    "text1 = \"Hello , world ! How are you ?\"\n",
    "cleaned_text1 = remove_extra_spaces_around_punctuation(text1)\n",
    "print(cleaned_text1) # Output: Hello,world!How are you?\n",
    "\n",
    "text2 = \"This is a test . Another test .\"\n",
    "cleaned_text2 = remove_extra_spaces_around_punctuation(text2)\n",
    "print(cleaned_text2) # Output: This is a test.Another test."
   ]
  },
  {
   "cell_type": "code",
   "execution_count": 9,
   "id": "56241316",
   "metadata": {},
   "outputs": [],
   "source": [
    "def normalize_punctuation_spacing(text):\n",
    "    punctuations = '.,!?;:'\n",
    "    result = ''\n",
    "    i = 0\n",
    "    while i < len(text):\n",
    "        char = text[i]\n",
    "\n",
    "        # Remove space before punctuation\n",
    "        if char in punctuations:\n",
    "            if result and result[-1] == ' ':\n",
    "                result = result[:-1]\n",
    "            result += char\n",
    "\n",
    "            # Add one space after punctuation (if not end of text or already a space)\n",
    "            if i + 1 < len(text) and text[i + 1] != ' ':\n",
    "                result += ' '\n",
    "        else:\n",
    "            result += char\n",
    "        i += 1\n",
    "\n",
    "    # Remove multiple spaces\n",
    "    words = result.split()\n",
    "    return ' '.join(words)\n"
   ]
  },
  {
   "cell_type": "code",
   "execution_count": 10,
   "id": "1d9d6f8a",
   "metadata": {},
   "outputs": [
    {
     "name": "stdout",
     "output_type": "stream",
     "text": [
      "Hello, world! This is a test: please check.\n"
     ]
    }
   ],
   "source": [
    "text = \"Hello ,  world !This is  a test:please check .\"\n",
    "cleaned = normalize_punctuation_spacing(text)\n",
    "print(cleaned)\n"
   ]
  },
  {
   "cell_type": "code",
   "execution_count": null,
   "id": "a9550aaf",
   "metadata": {},
   "outputs": [],
   "source": []
  }
 ],
 "metadata": {
  "kernelspec": {
   "display_name": "Python 3 (ipykernel)",
   "language": "python",
   "name": "python3"
  },
  "language_info": {
   "codemirror_mode": {
    "name": "ipython",
    "version": 3
   },
   "file_extension": ".py",
   "mimetype": "text/x-python",
   "name": "python",
   "nbconvert_exporter": "python",
   "pygments_lexer": "ipython3",
   "version": "3.10.12"
  }
 },
 "nbformat": 4,
 "nbformat_minor": 5
}
