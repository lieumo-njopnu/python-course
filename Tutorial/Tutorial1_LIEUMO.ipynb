{
 "cells": [
  {
   "cell_type": "markdown",
   "id": "a5ef9422",
   "metadata": {},
   "source": [
    "# <center> <span style='color: green;'> Tutorial 2 of programming with python course </span><center>"
   ]
  },
  {
   "cell_type": "markdown",
   "id": "2618ae77",
   "metadata": {},
   "source": [
    "## Question 1: \n",
    "\n",
    "Assume 3 variables are already defined for you: `a, b, and c`. Create a variable called `total` that adds `a` and `b` then multiplies the result by `c`. Include a last line in your code to print the value: `print(total)`."
   ]
  },
  {
   "cell_type": "code",
   "execution_count": null,
   "id": "328bc9ed",
   "metadata": {},
   "outputs": [],
   "source": [
    "# Write your code here    "
   ]
  },
  {
   "cell_type": "markdown",
   "id": "ca44fdba",
   "metadata": {},
   "source": [
    "## Question 2:\n",
    "\n",
    "Assume you are given a variable named number (has a numerical value). Write a piece of Python code that\n",
    "prints out one of the following strings:\n",
    "* `positive` if the variable number is positive\n",
    "* `negative` if the variable number is negative\n",
    "* `zero` if the variable number is equal to zero"
   ]
  },
  {
   "cell_type": "code",
   "execution_count": null,
   "id": "3f99365f",
   "metadata": {},
   "outputs": [],
   "source": [
    "# Write your code here\n"
   ]
  },
  {
   "cell_type": "markdown",
   "id": "06715276",
   "metadata": {},
   "source": [
    "## Question 3:\n",
    "Assume you are given a positive integer variable named `N`. Write a piece of Python code that prints `hello world` on separate lines, `N` times. You can use either a while loop or a for loop."
   ]
  },
  {
   "cell_type": "code",
   "execution_count": 10,
   "id": "5c34be2f",
   "metadata": {},
   "outputs": [],
   "source": [
    "# write your code here"
   ]
  },
  {
   "cell_type": "markdown",
   "id": "addd989e",
   "metadata": {},
   "source": [
    "## Question 4:\n",
    "\n",
    "Assume you are given a positive integer variable named `N`. Write a piece of Python code that finds the cube\n",
    "root of `N`. The code prints the cube root if `N` is a perfect cube or it prints error if `N` is not a perfect cube. \n",
    "\n",
    "* Hint: use a loop that increments a counter -- you decide when the counter should stop."
   ]
  },
  {
   "cell_type": "code",
   "execution_count": null,
   "id": "ccabb767",
   "metadata": {},
   "outputs": [],
   "source": [
    "# Write your code here"
   ]
  },
  {
   "cell_type": "markdown",
   "id": "b6cf4b76",
   "metadata": {},
   "source": [
    "## Bonus :\n",
    "\n",
    "Assume you are given a string variable named `my_str`. Write a piece of Python code that prints out a new\n",
    "string containing the even indexed characters of `my_str`. For example, if `my_str = \"abcdefg\"` then your\n",
    "code should print out `aceg`."
   ]
  },
  {
   "cell_type": "code",
   "execution_count": 11,
   "id": "bbd101e6",
   "metadata": {},
   "outputs": [],
   "source": [
    "# Write your code here\n"
   ]
  },
  {
   "cell_type": "code",
   "execution_count": null,
   "id": "5987ead5",
   "metadata": {},
   "outputs": [],
   "source": []
  }
 ],
 "metadata": {
  "kernelspec": {
   "display_name": ".venv",
   "language": "python",
   "name": "python3"
  },
  "language_info": {
   "codemirror_mode": {
    "name": "ipython",
    "version": 3
   },
   "file_extension": ".py",
   "mimetype": "text/x-python",
   "name": "python",
   "nbconvert_exporter": "python",
   "pygments_lexer": "ipython3",
   "version": "3.13.5"
  }
 },
 "nbformat": 4,
 "nbformat_minor": 5
}
